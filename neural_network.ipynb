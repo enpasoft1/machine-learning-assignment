{
  "nbformat": 4,
  "nbformat_minor": 0,
  "metadata": {
    "colab": {
      "provenance": [],
      "authorship_tag": "ABX9TyMP968nWIJ7blKEjNgn6BYp",
      "include_colab_link": true
    },
    "kernelspec": {
      "name": "python3",
      "display_name": "Python 3"
    },
    "language_info": {
      "name": "python"
    }
  },
  "cells": [
    {
      "cell_type": "markdown",
      "metadata": {
        "id": "view-in-github",
        "colab_type": "text"
      },
      "source": [
        "<a href=\"https://colab.research.google.com/github/sefahw/machine-learning-assignment/blob/main/neural_network.ipynb\" target=\"_parent\"><img src=\"https://colab.research.google.com/assets/colab-badge.svg\" alt=\"Open In Colab\"/></a>"
      ]
    },
    {
      "cell_type": "code",
      "execution_count": 1,
      "metadata": {
        "id": "S-lftk28RSsi"
      },
      "outputs": [],
      "source": [
        "import numpy as np\n",
        "import matplotlib.pyplot as plt\n"
      ]
    },
    {
      "cell_type": "code",
      "source": [
        "from sklearn.metrics import accuracy_score\n",
        "from sklearn.metrics import precision_score\n",
        "from sklearn.metrics import recall_score\n",
        "from sklearn.metrics import f1_score "
      ],
      "metadata": {
        "id": "BaodpmLnRj9j"
      },
      "execution_count": 2,
      "outputs": []
    },
    {
      "cell_type": "code",
      "source": [
        "from keras.datasets import mnist\n",
        "(x_train,y_train),(x_test,y_test)=mnist.load_data()"
      ],
      "metadata": {
        "id": "ExKkVVO3SkGa",
        "colab": {
          "base_uri": "https://localhost:8080/"
        },
        "outputId": "735108d6-21f3-4fbf-a816-a9c918728545"
      },
      "execution_count": 3,
      "outputs": [
        {
          "output_type": "stream",
          "name": "stdout",
          "text": [
            "Downloading data from https://storage.googleapis.com/tensorflow/tf-keras-datasets/mnist.npz\n",
            "11490434/11490434 [==============================] - 0s 0us/step\n"
          ]
        }
      ]
    },
    {
      "cell_type": "code",
      "source": [
        "print(x_train.shape\n",
        "      )\n",
        "print(x_test.shape)\n",
        "print(x_train[0].dtype)"
      ],
      "metadata": {
        "colab": {
          "base_uri": "https://localhost:8080/"
        },
        "id": "PG2JXZkITO9y",
        "outputId": "d179d50b-5695-42db-afef-c9f31bae7cb3"
      },
      "execution_count": 4,
      "outputs": [
        {
          "output_type": "stream",
          "name": "stdout",
          "text": [
            "(60000, 28, 28)\n",
            "(10000, 28, 28)\n",
            "uint8\n"
          ]
        }
      ]
    },
    {
      "cell_type": "code",
      "source": [
        "x_train=x_train.reshape(-1,784)\n",
        "x_test=x_test.reshape(-1,784)\n",
        "print(x_train.shape)\n",
        "print(x_test.shape)"
      ],
      "metadata": {
        "colab": {
          "base_uri": "https://localhost:8080/"
        },
        "id": "S6j5JftyUjJ5",
        "outputId": "fbf4c85f-d349-4ecd-9b3d-6d0a18790b86"
      },
      "execution_count": 5,
      "outputs": [
        {
          "output_type": "stream",
          "name": "stdout",
          "text": [
            "(60000, 784)\n",
            "(10000, 784)\n"
          ]
        }
      ]
    },
    {
      "cell_type": "code",
      "source": [
        "import matplotlib.pyplot as plt\n",
        "%matplotlib inline\n",
        "index=0\n",
        "image=x_train[index].reshape(28,28)\n",
        "plt.imshow(image,'gray')\n",
        "plt.title('label :{}'.format(y_train[index]))\n",
        "plt.show()"
      ],
      "metadata": {
        "colab": {
          "base_uri": "https://localhost:8080/",
          "height": 281
        },
        "id": "k2BLEViaV3Qj",
        "outputId": "5799a564-812b-472f-c6e5-c5f49dff7225"
      },
      "execution_count": 6,
      "outputs": [
        {
          "output_type": "display_data",
          "data": {
            "text/plain": [
              "<Figure size 432x288 with 1 Axes>"
            ],
            "image/png": "[encoded data removed]"
          },
          "metadata": {
            "needs_background": "light"
          }
        }
      ]
    },
    {
      "cell_type": "code",
      "source": [
        "x_train=x_train.astype(np.float)\n",
        "x_test=x_test.astype(np.float)\n",
        "x_train/=255\n",
        "x_test/=255\n",
        "print(x_train.max())\n",
        "print(x_test.min())"
      ],
      "metadata": {
        "id": "-3rndlhdXZom",
        "colab": {
          "base_uri": "https://localhost:8080/"
        },
        "outputId": "8716a2c2-22fd-4080-da41-0d6ed27637ca"
      },
      "execution_count": 7,
      "outputs": [
        {
          "output_type": "stream",
          "name": "stderr",
          "text": [
            "<ipython-input-7-faaf96f9f63a>:1: DeprecationWarning: `np.float` is a deprecated alias for the builtin `float`. To silence this warning, use `float` by itself. Doing this will not modify any behavior and is safe. If you specifically wanted the numpy scalar type, use `np.float64` here.\n",
            "Deprecated in NumPy 1.20; for more details and guidance: https://numpy.org/devdocs/release/1.20.0-notes.html#deprecations\n",
            "  x_train=x_train.astype(np.float)\n",
            "<ipython-input-7-faaf96f9f63a>:2: DeprecationWarning: `np.float` is a deprecated alias for the builtin `float`. To silence this warning, use `float` by itself. Doing this will not modify any behavior and is safe. If you specifically wanted the numpy scalar type, use `np.float64` here.\n",
            "Deprecated in NumPy 1.20; for more details and guidance: https://numpy.org/devdocs/release/1.20.0-notes.html#deprecations\n",
            "  x_test=x_test.astype(np.float)\n"
          ]
        },
        {
          "output_type": "stream",
          "name": "stdout",
          "text": [
            "1.0\n",
            "0.0\n"
          ]
        }
      ]
    },
    {
      "cell_type": "code",
      "source": [
        "from sklearn.model_selection import train_test_split\n",
        "\n",
        "x_train,x_val,y_train,y_val=train_test_split(x_train,y_train,test_size=0.2)\n",
        "print(x_train.shape)\n",
        "print(x_val.shape)"
      ],
      "metadata": {
        "colab": {
          "base_uri": "https://localhost:8080/"
        },
        "id": "md4V369AFfFW",
        "outputId": "db859d10-5c97-47fe-a11b-188068f5cacd"
      },
      "execution_count": 8,
      "outputs": [
        {
          "output_type": "stream",
          "name": "stdout",
          "text": [
            "(48000, 784)\n",
            "(12000, 784)\n"
          ]
        }
      ]
    },
    {
      "cell_type": "code",
      "source": [
        "from sklearn.preprocessing import OneHotEncoder\n",
        "enc=OneHotEncoder(handle_unknown='ignore',sparse=False)\n",
        "y_train_one_hot =enc.fit_transform(y_train[:,np.newaxis])\n",
        "y_val_one_hot=enc.transform(y_val[:,np.newaxis])\n",
        "print(y_train.shape)\n",
        "print(y_train_one_hot.shape)\n",
        "print(y_train_one_hot.dtype)"
      ],
      "metadata": {
        "colab": {
          "base_uri": "https://localhost:8080/"
        },
        "id": "TJGI_rxgHUuX",
        "outputId": "bc4ceae0-e5d7-4dc9-97da-27593380f0ac"
      },
      "execution_count": 9,
      "outputs": [
        {
          "output_type": "stream",
          "name": "stdout",
          "text": [
            "(48000,)\n",
            "(48000, 10)\n",
            "float64\n"
          ]
        }
      ]
    },
    {
      "cell_type": "code",
      "source": [
        "class GetMiniBatch:\n",
        "    \"\"\"\n",
        "    ミニバッチを取得するイテレータ\n",
        "\n",
        "    Parameters\n",
        "    ----------\n",
        "    X : 次の形のndarray, shape (n_samples, n_features)\n",
        "      訓練データ\n",
        "    y : 次の形のndarray, shape (n_samples, 1)\n",
        "      正解値\n",
        "    batch_size : int\n",
        "      バッチサイズ\n",
        "    seed : int\n",
        "      NumPyの乱数のシード\n",
        "    \"\"\"\n",
        "    def __init__(self, X, y, batch_size = 20, seed=0):\n",
        "        self.batch_size = batch_size\n",
        "        np.random.seed(seed)\n",
        "        shuffle_index = np.random.permutation(np.arange(X.shape[0]))\n",
        "        self._X = X[shuffle_index]\n",
        "        self._y = y[shuffle_index]\n",
        "        self._stop = np.ceil(X.shape[0]/self.batch_size).astype(np.int)\n",
        "\n",
        "    def __len__(self):\n",
        "        return self._stop\n",
        "\n",
        "    def __getitem__(self,item):\n",
        "        p0 = item*self.batch_size\n",
        "        p1 = item*self.batch_size + self.batch_size\n",
        "        return self._X[p0:p1], self._y[p0:p1]        \n",
        "\n",
        "    def __iter__(self):\n",
        "        self._counter = 0\n",
        "        return self\n",
        "\n",
        "    def __next__(self):\n",
        "        if self._counter >= self._stop:\n",
        "            raise StopIteration()\n",
        "        p0 = self._counter*self.batch_size\n",
        "        p1 = self._counter*self.batch_size + self.batch_size\n",
        "        self._counter += 1\n",
        "        return self._X[p0:p1], self._y[p0:p1]"
      ],
      "metadata": {
        "id": "bOPAmPg2JOSy"
      },
      "execution_count": 10,
      "outputs": []
    },
    {
      "cell_type": "code",
      "source": [
        "get_mini_batch = GetMiniBatch(x_train, y_train, batch_size=20)\n",
        "\n",
        "print(len(get_mini_batch)) # 2400\n",
        "print(get_mini_batch[5]) # 5番目のミニバッチが取得できる\n",
        "for mini_x_train, mini_y_train in get_mini_batch:\n",
        "    # このfor文内でミニバッチが使える\n",
        "    pass"
      ],
      "metadata": {
        "colab": {
          "base_uri": "https://localhost:8080/"
        },
        "id": "fZno-VJsKuwH",
        "outputId": "7b67e6eb-51d5-43b1-a12c-8fa1caaaabb3"
      },
      "execution_count": 11,
      "outputs": [
        {
          "output_type": "stream",
          "name": "stdout",
          "text": [
            "2400\n",
            "(array([[0., 0., 0., ..., 0., 0., 0.],\n",
            "       [0., 0., 0., ..., 0., 0., 0.],\n",
            "       [0., 0., 0., ..., 0., 0., 0.],\n",
            "       ...,\n",
            "       [0., 0., 0., ..., 0., 0., 0.],\n",
            "       [0., 0., 0., ..., 0., 0., 0.],\n",
            "       [0., 0., 0., ..., 0., 0., 0.]]), array([9, 4, 7, 8, 4, 7, 9, 6, 1, 0, 1, 1, 7, 3, 5, 2, 1, 7, 5, 1],\n",
            "      dtype=uint8))\n"
          ]
        },
        {
          "output_type": "stream",
          "name": "stderr",
          "text": [
            "<ipython-input-10-b95c4ffc9059>:22: DeprecationWarning: `np.int` is a deprecated alias for the builtin `int`. To silence this warning, use `int` by itself. Doing this will not modify any behavior and is safe. When replacing `np.int`, you may wish to use e.g. `np.int64` or `np.int32` to specify the precision. If you wish to review your current use, check the release note link for additional information.\n",
            "Deprecated in NumPy 1.20; for more details and guidance: https://numpy.org/devdocs/release/1.20.0-notes.html#deprecations\n",
            "  self._stop = np.ceil(X.shape[0]/self.batch_size).astype(np.int)\n"
          ]
        }
      ]
    },
    {
      "cell_type": "code",
      "source": [
        "class ScratchSimpleNeuralNetrowkClassifier():\n",
        "    \n",
        "    def __init__(self, n_epoch=50, n_features=784, n_nodes1=400, n_nodes2=200, \n",
        "                 n_output=10, sigma=0.01, n_batch=20, \n",
        "                 activate_function_key='tanh', lr = 0.01, verbose = False):\n",
        "        \n",
        "        self.n_epoch = n_epoch\n",
        "        self.n_features = n_features\n",
        "        self.n_nodes1 = n_nodes1\n",
        "        self.n_nodes2 = n_nodes2\n",
        "        self.n_output = n_output\n",
        "        self.sigma = sigma\n",
        "        self.n_batch = n_batch\n",
        "        self.activate_function_key = activate_function_key\n",
        "        self.lr = lr\n",
        "        self.verbose = verbose\n",
        "        \n",
        "    def initial_weight(self):\n",
        "        self.W1 = self.sigma * np.random.randn(self.n_features, self.n_nodes1)\n",
        "        self.b1 = np.zeros(self.n_nodes1)\n",
        "        self.W2 = self.sigma * np.random.randn(self.n_nodes1, self.n_nodes2)\n",
        "        self.b2 = np.zeros(self.n_nodes2)\n",
        "        self.W3 = self.sigma * np.random.randn(self.n_nodes2, self.n_output)\n",
        "        self.b3 = np.zeros(self.n_output)\n",
        "        \n",
        "    def activation_function(self,X):\n",
        "        if self.activate_function_key == 'sigmoid':\n",
        "            return 1/(1+np.exp(-X))\n",
        "        \n",
        "        elif self.activate_function_key == 'tanh':\n",
        "            return np.tanh(X)\n",
        "    \n",
        "    def softmax(self,X):\n",
        "        \n",
        "        return np.exp(X-np.max(X))/np.sum(np.exp(X-np.max(X)),axis=1,keepdims=True)\n",
        "    \n",
        "    def loss_function(self,y,yt):\n",
        "        delta = 1e-7\n",
        "        return -np.mean(yt*np.log(y+delta))\n",
        "    \n",
        "    def gradient_descent(self,X,y,yt):\n",
        "        \n",
        "            # 3rd layer\n",
        "            delta_a3 = (y-yt)/self.n_batch\n",
        "            delta_b3 = np.sum(delta_a3,axis=0)\n",
        "            delta_W3 = np.dot(self.z2.T,delta_a3)\n",
        "            delta_z2 = np.dot(delta_a3,self.W3.T)\n",
        "        \n",
        "            self.W3 -= self.lr*delta_W3\n",
        "            self.b3 -= self.lr*delta_b3\n",
        "        \n",
        "            # 2nd layer\n",
        "            if self.activate_function_key == 'sigmoid':\n",
        "                delta_a2 = delta_z2*(1-self.activation_function(self.z2))*self.activation_function(self.z2)\n",
        "            \n",
        "            elif self.activate_function_key == 'tanh':\n",
        "                delta_a2 = delta_z2*(1-np.tanh(self.z2)**2)\n",
        "            \n",
        "            delta_b2 = np.sum(delta_a2,axis=0)\n",
        "            delta_W2 = np.dot(self.z1.T,delta_a2)\n",
        "            delta_z1 = np.dot(delta_a2,self.W2.T)\n",
        "        \n",
        "            self.W2 -= self.lr*delta_W2\n",
        "            self.b2 -= self.lr*delta_b2\n",
        "        \n",
        "            # 1st layer\n",
        "            if self.activate_function_key == 'sigmoid':\n",
        "                delta_a1 = delta_z1*(1-self.activation_function(self.z1))*self.activation_function(self.z1)\n",
        "            \n",
        "            elif self.activate_function_key == 'tanh':\n",
        "                delta_a1 = delta_z1*(1-np.tanh(self.z1)**2)\n",
        "                \n",
        "            delta_b1 = np.sum(delta_a1,axis=0)\n",
        "            delta_W1 = np.dot(X.T,delta_a1)\n",
        "        \n",
        "            self.W1 -= self.lr*delta_W1\n",
        "            self.b1 -= self.lr*delta_b1\n",
        "                \n",
        "    def fit(self, X, y, X_val=False, y_val=False):\n",
        "       \n",
        "        # Initialize weights\n",
        "        self.initial_weight()\n",
        "        \n",
        "        # List to record the loss_function for each epoch\n",
        "        self.log_loss = []\n",
        "        self.log_loss_val = []\n",
        "        \n",
        "        # Evaluate the estimation of Train data per epoch: Accuracy\n",
        "        self.log_acc = []\n",
        "        self.log_acc_val = []\n",
        "        \n",
        "        for epoch in range(self.n_epoch):\n",
        "            # Mini-batch processing\n",
        "            get_mini_batch = GetMiniBatch(X, y, batch_size=self.n_batch)\n",
        "            \n",
        "            self.loss = 0\n",
        "            self.true_y = np.array([])\n",
        "            self.pred_y = np.array([])\n",
        "            \n",
        "            for mini_X_train, mini_y_train in get_mini_batch:\n",
        "            \n",
        "                # 1st layer\n",
        "                self.z1 = self.activation_function(np.dot(mini_X_train,self.W1) + self.b1)\n",
        "            \n",
        "                # 2nd layer\n",
        "                self.z2 = self.activation_function(np.dot(self.z1,self.W2) + self.b2)\n",
        "            \n",
        "                # 3rd layer (softmax function)\n",
        "                yhat = self.softmax(np.dot(self.z2,self.W3) + self.b3)\n",
        "                \n",
        "                # Backpropagation (stochastic gradient descent method)）\n",
        "                self.gradient_descent(mini_X_train,yhat,mini_y_train)\n",
        "                \n",
        "                # Record correct and estimated values for mini-batch data\n",
        "                self.true_y = np.concatenate([self.true_y,np.argmax(mini_y_train,axis=1)])\n",
        "                self.pred_y = np.concatenate([self.pred_y,np.argmax(yhat,axis=1)])\n",
        "                \n",
        "                # Loss function\n",
        "                self.loss += self.loss_function(yhat,mini_y_train)\n",
        "            \n",
        "            # Record the loss function for each epoch\n",
        "            self.log_loss.append(self.loss/len(get_mini_batch))\n",
        "            \n",
        "            # Accuracy\n",
        "            acc = accuracy_score(self.true_y, self.pred_y)\n",
        "            self.log_acc.append(acc)\n",
        "            \n",
        "            # Calculate once Val data has been entered\n",
        "            if (type(X_val) != bool):\n",
        "                # 1st layer\n",
        "                self.z1_val = self.activation_function(np.dot(X_val,self.W1) + self.b1)\n",
        "            \n",
        "                # 2nd layer\n",
        "                self.z2_val = self.activation_function(np.dot(self.z1_val,self.W2) + self.b2)\n",
        "            \n",
        "                # 3rd layer (softmax function)\n",
        "                yhat_val = self.softmax(np.dot(self.z2_val,self.W3) + self.b3)\n",
        "                \n",
        "                # Loss function\n",
        "                self.loss_val = self.loss_function(yhat_val,y_val)\n",
        "                self.log_loss_val.append(self.loss_val)\n",
        "                \n",
        "                # Accuracy\n",
        "                \n",
        "                acc_val = accuracy_score(np.argmax(y_val,axis=1), np.argmax(yhat_val,axis=1))\n",
        "                self.log_acc_val.append(acc_val)\n",
        "            \n",
        "            #When verbose is set to true, output the learning process and other information.\n",
        "            if self.verbose:\n",
        "                print('epoch:{:>3} loss:{:>8,.3f} acc:{:>5,.3f}'.format(epoch,self.loss/self.n_batch,acc))\n",
        "            \n",
        "    def predict(self, X):\n",
        "       \n",
        "        # 1st layer\n",
        "        self.pred_z1 = self.activation_function(np.dot(X,self.W1) + self.b1)\n",
        "            \n",
        "        # 2nd layer\n",
        "        self.pred_z2 = self.activation_function(np.dot(self.pred_z1,self.W2) + self.b2)\n",
        "        \n",
        "        return np.argmax(np.dot(self.pred_z2,self.W3) + self.b3, axis=1)\n",
        "       \n",
        "\n",
        "      "
      ],
      "metadata": {
        "id": "hffcygrhLLNK"
      },
      "execution_count": 12,
      "outputs": []
    },
    {
      "cell_type": "code",
      "source": [
        "import numpy as np\n",
        "n_features=784\n",
        "n_nodes1=400\n",
        "n_nodes2=200\n",
        "n_outputs=10\n",
        "sigma=0.01\n",
        "w1=sigma*np.random.randn(n_features,n_nodes1)\n",
        "print('w1',w1.shape)"
      ],
      "metadata": {
        "id": "Nhgz859fYvcW",
        "colab": {
          "base_uri": "https://localhost:8080/"
        },
        "outputId": "89181846-4c83-41d1-e7c5-d8e82f18fb0d"
      },
      "execution_count": 13,
      "outputs": [
        {
          "output_type": "stream",
          "name": "stdout",
          "text": [
            "w1 (784, 400)\n"
          ]
        }
      ]
    },
    {
      "cell_type": "code",
      "source": [
        "w1=sigma*np.random.randn(n_features,n_nodes1)\n",
        "b1=sigma*np.random.randn(n_nodes1)\n",
        "w2=sigma*np.random.randn(n_nodes1,n_nodes2)\n",
        "b2=sigma*np.random.randn(n_nodes2)\n",
        "w3=sigma*np.random.randn(n_nodes2,n_outputs)\n",
        "b3=sigma*np.random.randn(n_outputs)\n",
        "print('w1',w1.shape)\n",
        "print('b1',b1.shape)\n",
        "print('w2',w2.shape)\n",
        "print('b2',b2.shape)\n",
        "print('w3',w3.shape)\n",
        "print('b3',b3.shape)"
      ],
      "metadata": {
        "colab": {
          "base_uri": "https://localhost:8080/"
        },
        "id": "rDCKU0vQfSr7",
        "outputId": "91178053-2f51-4392-ed4f-901eb8844b89"
      },
      "execution_count": 14,
      "outputs": [
        {
          "output_type": "stream",
          "name": "stdout",
          "text": [
            "w1 (784, 400)\n",
            "b1 (400,)\n",
            "w2 (400, 200)\n",
            "b2 (200,)\n",
            "w3 (200, 10)\n",
            "b3 (10,)\n"
          ]
        }
      ]
    },
    {
      "cell_type": "code",
      "source": [
        "x=x_train[0:20]"
      ],
      "metadata": {
        "id": "PX-wFaRofYeM"
      },
      "execution_count": 15,
      "outputs": []
    },
    {
      "cell_type": "code",
      "source": [
        "z1 = np.dot(x,w1)# + b1\n",
        "print('z1.shape:',z1.shape)\n",
        "print(z1)"
      ],
      "metadata": {
        "colab": {
          "base_uri": "https://localhost:8080/"
        },
        "id": "B3DYPfhMk5PN",
        "outputId": "28f2dab4-4836-4148-bcc0-c05a90184d0e"
      },
      "execution_count": 16,
      "outputs": [
        {
          "output_type": "stream",
          "name": "stdout",
          "text": [
            "z1.shape: (20, 400)\n",
            "[[ 0.0464406   0.07857925  0.07725121 ...  0.00352582  0.07051942\n",
            "  -0.04734799]\n",
            " [ 0.0458569   0.00497954 -0.00880262 ...  0.0302338  -0.03460126\n",
            "   0.03708669]\n",
            " [ 0.1081197   0.18616655  0.07055464 ... -0.11431193  0.01913117\n",
            "  -0.13488784]\n",
            " ...\n",
            " [-0.06266604  0.06479946 -0.08009183 ...  0.01387534  0.08683452\n",
            "   0.0130277 ]\n",
            " [ 0.01077263  0.02630732  0.02087926 ...  0.01114869 -0.02139323\n",
            "   0.00870664]\n",
            " [ 0.085619    0.14066332 -0.01870446 ...  0.05739651 -0.01290976\n",
            "  -0.00753272]]\n"
          ]
        }
      ]
    },
    {
      "cell_type": "code",
      "source": [
        "sig1 = 1/(1+np.exp(-z1))\n",
        "print('sig1.shape:',sig1.shape)\n",
        "print(sig1)"
      ],
      "metadata": {
        "colab": {
          "base_uri": "https://localhost:8080/"
        },
        "id": "RD-Qmp7ElIcS",
        "outputId": "91f3180a-7167-48a3-9996-03328939d713"
      },
      "execution_count": 17,
      "outputs": [
        {
          "output_type": "stream",
          "name": "stdout",
          "text": [
            "sig1.shape: (20, 400)\n",
            "[[0.51160806 0.51963471 0.5193032  ... 0.50088145 0.51762255 0.48816521]\n",
            " [0.51146222 0.50124488 0.49779936 ... 0.50755787 0.49135055 0.50927061]\n",
            " [0.52700362 0.54640768 0.51763135 ... 0.4714531  0.50478265 0.46632908]\n",
            " ...\n",
            " [0.48433861 0.5161942  0.47998774 ... 0.50346878 0.521695   0.50325688]\n",
            " [0.50269313 0.50657645 0.50521962 ... 0.50278714 0.4946519  0.50217665]\n",
            " [0.52139168 0.53510796 0.49532402 ... 0.51434519 0.49677261 0.49811683]]\n"
          ]
        }
      ]
    },
    {
      "cell_type": "code",
      "source": [
        "z2=np.dot(sig1,w2)+b2\n",
        "print('z2.shape',z2.shape)\n",
        "print(z2)"
      ],
      "metadata": {
        "colab": {
          "base_uri": "https://localhost:8080/"
        },
        "id": "aJNPtWAgmG-O",
        "outputId": "c52bac30-2600-4901-a84d-f45221e5115e"
      },
      "execution_count": 18,
      "outputs": [
        {
          "output_type": "stream",
          "name": "stdout",
          "text": [
            "z2.shape (20, 200)\n",
            "[[-0.06271534  0.08366917 -0.05876531 ... -0.07021468  0.03455812\n",
            "   0.03761423]\n",
            " [-0.0642195   0.07446615 -0.05438971 ... -0.0634041   0.03596355\n",
            "   0.03975959]\n",
            " [-0.0604471   0.08215137 -0.05227907 ... -0.06827198  0.04028891\n",
            "   0.03306097]\n",
            " ...\n",
            " [-0.06220622  0.07874758 -0.0517997  ... -0.06974226  0.03501599\n",
            "   0.03383671]\n",
            " [-0.06205947  0.08089125 -0.05926065 ... -0.06055926  0.0358798\n",
            "   0.03541253]\n",
            " [-0.06812195  0.07936055 -0.05910421 ... -0.06475002  0.0343131\n",
            "   0.02951623]]\n"
          ]
        }
      ]
    },
    {
      "cell_type": "code",
      "source": [
        "sig2 = 1/(1+np.exp(-z2))\n",
        "print('sig2.shape:',sig2.shape)\n",
        "print(sig2)"
      ],
      "metadata": {
        "colab": {
          "base_uri": "https://localhost:8080/"
        },
        "id": "Ppc5JRqJlxyX",
        "outputId": "777647cb-44d6-404d-dfba-f9878d5287b7"
      },
      "execution_count": 19,
      "outputs": [
        {
          "output_type": "stream",
          "name": "stdout",
          "text": [
            "sig2.shape: (20, 200)\n",
            "[[0.4843263  0.5209051  0.4853129  ... 0.48245354 0.50863867 0.50940245]\n",
            " [0.48395064 0.51860794 0.48640592 ... 0.48415428 0.50898992 0.50993859]\n",
            " [0.48489282 0.5205263  0.48693321 ... 0.48293863 0.51007087 0.50826449]\n",
            " ...\n",
            " [0.48445346 0.51967673 0.48705297 ... 0.4825715  0.5087531  0.50845837]\n",
            " [0.48449011 0.52021179 0.48518917 ... 0.48486481 0.50896899 0.50885221]\n",
            " [0.4829761  0.51982973 0.48522825 ... 0.48381815 0.50857743 0.50737852]]\n"
          ]
        }
      ]
    },
    {
      "cell_type": "code",
      "source": [
        "z3=np.dot(sig2,w3)+b3\n",
        "print('z3.shape',z3.shape)\n",
        "print(z3)"
      ],
      "metadata": {
        "colab": {
          "base_uri": "https://localhost:8080/"
        },
        "id": "_Wn3Pi-cm76t",
        "outputId": "3fd66daa-93d1-499d-c933-c3c63ccbd79e"
      },
      "execution_count": 20,
      "outputs": [
        {
          "output_type": "stream",
          "name": "stdout",
          "text": [
            "z3.shape (20, 10)\n",
            "[[-0.03832168 -0.07048001 -0.02101282  0.0666413   0.15808952 -0.22280949\n",
            "   0.00584972 -0.02623132  0.05391253 -0.1320191 ]\n",
            " [-0.03817851 -0.07064382 -0.02074739  0.06670707  0.1580672  -0.22287154\n",
            "   0.00577041 -0.02601479  0.0537889  -0.13226257]\n",
            " [-0.03830832 -0.07059911 -0.02085921  0.06663493  0.15825569 -0.22303149\n",
            "   0.00602044 -0.02607195  0.05372602 -0.13231421]\n",
            " [-0.0384164  -0.07050907 -0.02068843  0.06684934  0.15805611 -0.22317964\n",
            "   0.00593794 -0.02616712  0.05361364 -0.13224909]\n",
            " [-0.03843289 -0.07058153 -0.0207989   0.06677013  0.15812839 -0.2230383\n",
            "   0.0059786  -0.02610954  0.05379108 -0.13228047]\n",
            " [-0.03827198 -0.07059575 -0.02060177  0.06672804  0.15808769 -0.22287035\n",
            "   0.00594537 -0.02619218  0.05376637 -0.13216814]\n",
            " [-0.03851357 -0.07044443 -0.02090183  0.06666133  0.15818557 -0.22288975\n",
            "   0.00579157 -0.02604757  0.05392009 -0.1321692 ]\n",
            " [-0.03840277 -0.07040499 -0.02072025  0.06678428  0.15830156 -0.22281207\n",
            "   0.00591897 -0.02604126  0.05398133 -0.13228182]\n",
            " [-0.0382768  -0.07057933 -0.02090799  0.06675032  0.15810542 -0.2229884\n",
            "   0.0058223  -0.02616901  0.05386528 -0.13215267]\n",
            " [-0.03842165 -0.07049959 -0.02076248  0.06674143  0.15785876 -0.22292308\n",
            "   0.00599985 -0.02617541  0.05384886 -0.13215892]\n",
            " [-0.03828463 -0.07051054 -0.02081044  0.06658821  0.15802116 -0.22297577\n",
            "   0.00591894 -0.02627253  0.05393936 -0.13197616]\n",
            " [-0.03850361 -0.07053707 -0.0207744   0.06683889  0.15810387 -0.223147\n",
            "   0.00599628 -0.02620869  0.05382054 -0.13208662]\n",
            " [-0.03848535 -0.07041922 -0.02088831  0.06679035  0.15801049 -0.22302517\n",
            "   0.00578485 -0.02651023  0.0537871  -0.13221418]\n",
            " [-0.0385066  -0.07044694 -0.02074943  0.06682259  0.15821033 -0.22298282\n",
            "   0.00586793 -0.02638662  0.05389656 -0.13224986]\n",
            " [-0.03846501 -0.07055659 -0.02072774  0.06677979  0.15795178 -0.22301592\n",
            "   0.00594909 -0.02629392  0.05387282 -0.13214697]\n",
            " [-0.03846777 -0.07045637 -0.02084777  0.06689376  0.15804805 -0.22300177\n",
            "   0.0058961  -0.02606206  0.05391015 -0.13207352]\n",
            " [-0.03834235 -0.07047508 -0.0207413   0.06682373  0.1581207  -0.22298608\n",
            "   0.00587386 -0.02635555  0.05404406 -0.13218487]\n",
            " [-0.0383052  -0.07051658 -0.0205724   0.06678012  0.15809519 -0.22308874\n",
            "   0.00585516 -0.02614284  0.0538818  -0.13218093]\n",
            " [-0.03841908 -0.07061724 -0.02090685  0.06682888  0.15796017 -0.22296683\n",
            "   0.00599377 -0.02595228  0.05399502 -0.13230369]\n",
            " [-0.03824274 -0.07052799 -0.02096616  0.06668615  0.15809289 -0.22301518\n",
            "   0.00587781 -0.0260598   0.05387833 -0.13199641]]\n"
          ]
        }
      ]
    },
    {
      "cell_type": "code",
      "source": [
        "sfmax=np.zeros([len(x),10])\n",
        "for i in range(20):\n",
        "    sfmax[i]=np.exp(z3[i])/np.sum(np.exp(z3[i]),axis=0)\n",
        "print('sfmax.shape',sfmax.shape)\n",
        "print(sfmax) \n",
        "print(np.sum(sfmax))   "
      ],
      "metadata": {
        "colab": {
          "base_uri": "https://localhost:8080/"
        },
        "id": "fIt8_01snzAb",
        "outputId": "f3bab79e-22ef-427d-b630-48bf81e60081"
      },
      "execution_count": 21,
      "outputs": [
        {
          "output_type": "stream",
          "name": "stdout",
          "text": [
            "sfmax.shape (20, 10)\n",
            "[[0.09794756 0.09484784 0.09965768 0.10878737 0.11920485 0.08144634\n",
            "  0.10237102 0.09913897 0.10741141 0.08918696]\n",
            " [0.09796132 0.09483204 0.09968386 0.10879422 0.11920186 0.08144107\n",
            "  0.10236262 0.09916017 0.10739784 0.089165  ]\n",
            " [0.09794953 0.09483718 0.09967366 0.1087874  0.11922546 0.08142881\n",
            "  0.10238918 0.09915544 0.1073921  0.08916124]\n",
            " [0.09794107 0.09484778 0.09969284 0.10881309 0.11920425 0.08141851\n",
            "  0.10238296 0.09914815 0.10738236 0.08916898]\n",
            " [0.09793767 0.09483918 0.09968002 0.1088025  0.11921071 0.08142855\n",
            "  0.10238526 0.09915206 0.10739947 0.08916457]\n",
            " [0.0979501  0.0948346  0.09969628 0.10879421 0.11920179 0.08143945\n",
            "  0.10237837 0.09914049 0.10739316 0.08917154]\n",
            " [0.09792853 0.09485098 0.0996685  0.10878928 0.11921601 0.08143961\n",
            "  0.10236482 0.09915695 0.10741197 0.08917336]\n",
            " [0.0979319  0.09484748 0.09967898 0.10879434 0.11922073 0.08143971\n",
            "  0.10237004 0.09915    0.10741033 0.0891565 ]\n",
            " [0.09795284 0.09483927 0.09966902 0.10880021 0.11920782 0.08143251\n",
            "  0.10236913 0.09914604 0.10740731 0.08917585]\n",
            " [0.09793884 0.09484702 0.09968372 0.10879945 0.11917865 0.08143798\n",
            "  0.10238751 0.0991456  0.10740575 0.08917547]\n",
            " [0.09795088 0.09484464 0.09967754 0.10878125 0.11919633 0.08143254\n",
            "  0.10237778 0.09913457 0.10741396 0.08919051]\n",
            " [0.09792998 0.09484265 0.09968168 0.10880913 0.11920685 0.08141905\n",
            "  0.10238627 0.09914145 0.10740179 0.08918115]\n",
            " [0.09793876 0.0948606  0.09967744 0.10881161 0.11920422 0.08143479\n",
            "  0.10237193 0.09911864 0.10740587 0.08917614]\n",
            " [0.09792989 0.09485141 0.09968438 0.10880759 0.11921979 0.0814326\n",
            "  0.10237335 0.09912402 0.10741019 0.08916678]\n",
            " [0.09793575 0.09484273 0.09968836 0.10880491 0.11919114 0.08143138\n",
            "  0.10238352 0.09913502 0.10740959 0.08917758]\n",
            " [0.09793054 0.09484746 0.09967137 0.10881183 0.11919661 0.08142843\n",
            "  0.10237293 0.09915301 0.10740819 0.08917964]\n",
            " [0.09794317 0.09484601 0.09968233 0.10880458 0.11920568 0.08142999\n",
            "  0.10237101 0.09912426 0.10742294 0.08917002]\n",
            " [0.09794656 0.09484184 0.09969892 0.10879957 0.11920235 0.08142143\n",
            "  0.10236884 0.0991451  0.10740525 0.08917015]\n",
            " [0.09793743 0.09483425 0.09966763 0.10880711 0.11918871 0.08143303\n",
            "  0.10238514 0.09916603 0.10741962 0.08916104]\n",
            " [0.09795386 0.0948419  0.09966087 0.10879066 0.11920351 0.0814284\n",
            "  0.1023724  0.09915453 0.10740617 0.08918768]]\n",
            "20.0\n"
          ]
        }
      ]
    },
    {
      "cell_type": "code",
      "source": [
        "softmax=np.exp(z3).T/np.sum(np.exp(z3),axis=1)\n",
        "print('softmax.shape',softmax.shape)\n",
        "print(softmax.T)\n",
        "print(np.sum(softmax))\n"
      ],
      "metadata": {
        "colab": {
          "base_uri": "https://localhost:8080/"
        },
        "id": "iGWcVlTrpXZL",
        "outputId": "cfcd15aa-4e5f-4325-94f5-556f3274d128"
      },
      "execution_count": 22,
      "outputs": [
        {
          "output_type": "stream",
          "name": "stdout",
          "text": [
            "softmax.shape (10, 20)\n",
            "[[0.09794756 0.09484784 0.09965768 0.10878737 0.11920485 0.08144634\n",
            "  0.10237102 0.09913897 0.10741141 0.08918696]\n",
            " [0.09796132 0.09483204 0.09968386 0.10879422 0.11920186 0.08144107\n",
            "  0.10236262 0.09916017 0.10739784 0.089165  ]\n",
            " [0.09794953 0.09483718 0.09967366 0.1087874  0.11922546 0.08142881\n",
            "  0.10238918 0.09915544 0.1073921  0.08916124]\n",
            " [0.09794107 0.09484778 0.09969284 0.10881309 0.11920425 0.08141851\n",
            "  0.10238296 0.09914815 0.10738236 0.08916898]\n",
            " [0.09793767 0.09483918 0.09968002 0.1088025  0.11921071 0.08142855\n",
            "  0.10238526 0.09915206 0.10739947 0.08916457]\n",
            " [0.0979501  0.0948346  0.09969628 0.10879421 0.11920179 0.08143945\n",
            "  0.10237837 0.09914049 0.10739316 0.08917154]\n",
            " [0.09792853 0.09485098 0.0996685  0.10878928 0.11921601 0.08143961\n",
            "  0.10236482 0.09915695 0.10741197 0.08917336]\n",
            " [0.0979319  0.09484748 0.09967898 0.10879434 0.11922073 0.08143971\n",
            "  0.10237004 0.09915    0.10741033 0.0891565 ]\n",
            " [0.09795284 0.09483927 0.09966902 0.10880021 0.11920782 0.08143251\n",
            "  0.10236913 0.09914604 0.10740731 0.08917585]\n",
            " [0.09793884 0.09484702 0.09968372 0.10879945 0.11917865 0.08143798\n",
            "  0.10238751 0.0991456  0.10740575 0.08917547]\n",
            " [0.09795088 0.09484464 0.09967754 0.10878125 0.11919633 0.08143254\n",
            "  0.10237778 0.09913457 0.10741396 0.08919051]\n",
            " [0.09792998 0.09484265 0.09968168 0.10880913 0.11920685 0.08141905\n",
            "  0.10238627 0.09914145 0.10740179 0.08918115]\n",
            " [0.09793876 0.0948606  0.09967744 0.10881161 0.11920422 0.08143479\n",
            "  0.10237193 0.09911864 0.10740587 0.08917614]\n",
            " [0.09792989 0.09485141 0.09968438 0.10880759 0.11921979 0.0814326\n",
            "  0.10237335 0.09912402 0.10741019 0.08916678]\n",
            " [0.09793575 0.09484273 0.09968836 0.10880491 0.11919114 0.08143138\n",
            "  0.10238352 0.09913502 0.10740959 0.08917758]\n",
            " [0.09793054 0.09484746 0.09967137 0.10881183 0.11919661 0.08142843\n",
            "  0.10237293 0.09915301 0.10740819 0.08917964]\n",
            " [0.09794317 0.09484601 0.09968233 0.10880458 0.11920568 0.08142999\n",
            "  0.10237101 0.09912426 0.10742294 0.08917002]\n",
            " [0.09794656 0.09484184 0.09969892 0.10879957 0.11920235 0.08142143\n",
            "  0.10236884 0.0991451  0.10740525 0.08917015]\n",
            " [0.09793743 0.09483425 0.09966763 0.10880711 0.11918871 0.08143303\n",
            "  0.10238514 0.09916603 0.10741962 0.08916104]\n",
            " [0.09795386 0.0948419  0.09966087 0.10879066 0.11920351 0.0814284\n",
            "  0.1023724  0.09915453 0.10740617 0.08918768]]\n",
            "20.0\n"
          ]
        }
      ]
    },
    {
      "cell_type": "code",
      "source": [
        "softmax=np.exp(z3)/np.sum(np.exp(z3),axis=1,keepdims=True)\n",
        "print('softmax.shape',softmax.shape)\n",
        "print(softmax)\n",
        "print(np.sum(softmax))\n"
      ],
      "metadata": {
        "colab": {
          "base_uri": "https://localhost:8080/"
        },
        "id": "BqOMso-9qetp",
        "outputId": "97c6d7fd-f09a-4135-bb4c-8f31cff44e06"
      },
      "execution_count": 23,
      "outputs": [
        {
          "output_type": "stream",
          "name": "stdout",
          "text": [
            "softmax.shape (20, 10)\n",
            "[[0.09794756 0.09484784 0.09965768 0.10878737 0.11920485 0.08144634\n",
            "  0.10237102 0.09913897 0.10741141 0.08918696]\n",
            " [0.09796132 0.09483204 0.09968386 0.10879422 0.11920186 0.08144107\n",
            "  0.10236262 0.09916017 0.10739784 0.089165  ]\n",
            " [0.09794953 0.09483718 0.09967366 0.1087874  0.11922546 0.08142881\n",
            "  0.10238918 0.09915544 0.1073921  0.08916124]\n",
            " [0.09794107 0.09484778 0.09969284 0.10881309 0.11920425 0.08141851\n",
            "  0.10238296 0.09914815 0.10738236 0.08916898]\n",
            " [0.09793767 0.09483918 0.09968002 0.1088025  0.11921071 0.08142855\n",
            "  0.10238526 0.09915206 0.10739947 0.08916457]\n",
            " [0.0979501  0.0948346  0.09969628 0.10879421 0.11920179 0.08143945\n",
            "  0.10237837 0.09914049 0.10739316 0.08917154]\n",
            " [0.09792853 0.09485098 0.0996685  0.10878928 0.11921601 0.08143961\n",
            "  0.10236482 0.09915695 0.10741197 0.08917336]\n",
            " [0.0979319  0.09484748 0.09967898 0.10879434 0.11922073 0.08143971\n",
            "  0.10237004 0.09915    0.10741033 0.0891565 ]\n",
            " [0.09795284 0.09483927 0.09966902 0.10880021 0.11920782 0.08143251\n",
            "  0.10236913 0.09914604 0.10740731 0.08917585]\n",
            " [0.09793884 0.09484702 0.09968372 0.10879945 0.11917865 0.08143798\n",
            "  0.10238751 0.0991456  0.10740575 0.08917547]\n",
            " [0.09795088 0.09484464 0.09967754 0.10878125 0.11919633 0.08143254\n",
            "  0.10237778 0.09913457 0.10741396 0.08919051]\n",
            " [0.09792998 0.09484265 0.09968168 0.10880913 0.11920685 0.08141905\n",
            "  0.10238627 0.09914145 0.10740179 0.08918115]\n",
            " [0.09793876 0.0948606  0.09967744 0.10881161 0.11920422 0.08143479\n",
            "  0.10237193 0.09911864 0.10740587 0.08917614]\n",
            " [0.09792989 0.09485141 0.09968438 0.10880759 0.11921979 0.0814326\n",
            "  0.10237335 0.09912402 0.10741019 0.08916678]\n",
            " [0.09793575 0.09484273 0.09968836 0.10880491 0.11919114 0.08143138\n",
            "  0.10238352 0.09913502 0.10740959 0.08917758]\n",
            " [0.09793054 0.09484746 0.09967137 0.10881183 0.11919661 0.08142843\n",
            "  0.10237293 0.09915301 0.10740819 0.08917964]\n",
            " [0.09794317 0.09484601 0.09968233 0.10880458 0.11920568 0.08142999\n",
            "  0.10237101 0.09912426 0.10742294 0.08917002]\n",
            " [0.09794656 0.09484184 0.09969892 0.10879957 0.11920235 0.08142143\n",
            "  0.10236884 0.0991451  0.10740525 0.08917015]\n",
            " [0.09793743 0.09483425 0.09966763 0.10880711 0.11918871 0.08143303\n",
            "  0.10238514 0.09916603 0.10741962 0.08916104]\n",
            " [0.09795386 0.0948419  0.09966087 0.10879066 0.11920351 0.0814284\n",
            "  0.1023724  0.09915453 0.10740617 0.08918768]]\n",
            "20.0\n"
          ]
        }
      ]
    },
    {
      "cell_type": "code",
      "source": [
        "np.tanh(z1)"
      ],
      "metadata": {
        "colab": {
          "base_uri": "https://localhost:8080/"
        },
        "id": "0oqZ3inysQou",
        "outputId": "7b5e5ec2-5d3a-40a4-ac63-ea23bf58a102"
      },
      "execution_count": 24,
      "outputs": [
        {
          "output_type": "execute_result",
          "data": {
            "text/plain": [
              "array([[ 0.04640725,  0.07841792,  0.0770979 , ...,  0.00352581,\n",
              "         0.07040275, -0.04731264],\n",
              "       [ 0.04582478,  0.0049795 , -0.00880239, ...,  0.03022459,\n",
              "        -0.03458746,  0.0370697 ],\n",
              "       [ 0.10770036,  0.18404523,  0.0704378 , ..., -0.11381661,\n",
              "         0.01912883, -0.13407567],\n",
              "       ...,\n",
              "       [-0.06258414,  0.06470891, -0.07992101, ...,  0.01387445,\n",
              "         0.08661693,  0.01302696],\n",
              "       [ 0.01077221,  0.02630126,  0.02087622, ...,  0.01114823,\n",
              "        -0.02138997,  0.00870642],\n",
              "       [ 0.0854104 ,  0.13974287, -0.01870228, ...,  0.05733356,\n",
              "        -0.01290904, -0.00753258]])"
            ]
          },
          "metadata": {},
          "execution_count": 24
        }
      ]
    },
    {
      "cell_type": "code",
      "source": [
        "(np.exp(z1)-np.exp(-z1))/(np.exp(z1)+np.exp(-z1))"
      ],
      "metadata": {
        "colab": {
          "base_uri": "https://localhost:8080/"
        },
        "id": "mnZqU87ZsYjq",
        "outputId": "b6e28af8-b448-4f6a-98f3-89c3b763e208"
      },
      "execution_count": 25,
      "outputs": [
        {
          "output_type": "execute_result",
          "data": {
            "text/plain": [
              "array([[ 0.04640725,  0.07841792,  0.0770979 , ...,  0.00352581,\n",
              "         0.07040275, -0.04731264],\n",
              "       [ 0.04582478,  0.0049795 , -0.00880239, ...,  0.03022459,\n",
              "        -0.03458746,  0.0370697 ],\n",
              "       [ 0.10770036,  0.18404523,  0.0704378 , ..., -0.11381661,\n",
              "         0.01912883, -0.13407567],\n",
              "       ...,\n",
              "       [-0.06258414,  0.06470891, -0.07992101, ...,  0.01387445,\n",
              "         0.08661693,  0.01302696],\n",
              "       [ 0.01077221,  0.02630126,  0.02087622, ...,  0.01114823,\n",
              "        -0.02138997,  0.00870642],\n",
              "       [ 0.0854104 ,  0.13974287, -0.01870228, ...,  0.05733356,\n",
              "        -0.01290904, -0.00753258]])"
            ]
          },
          "metadata": {},
          "execution_count": 25
        }
      ]
    },
    {
      "cell_type": "code",
      "source": [
        "y=y_train_one_hot[0:20]\n",
        "loss=-y*np.log(sfmax)/len(y)\n",
        "print('shape:\\n',loss.shape)\n",
        "print(loss)"
      ],
      "metadata": {
        "colab": {
          "base_uri": "https://localhost:8080/"
        },
        "id": "feIIBSXZsZRh",
        "outputId": "65dbec6a-2de2-4bb4-8f34-c9c129da7141"
      },
      "execution_count": 26,
      "outputs": [
        {
          "output_type": "stream",
          "name": "stdout",
          "text": [
            "shape:\n",
            " (20, 10)\n",
            "[[0.         0.         0.         0.         0.         0.\n",
            "  0.         0.11556163 0.         0.        ]\n",
            " [0.         0.         0.         0.11091485 0.         0.\n",
            "  0.         0.         0.         0.        ]\n",
            " [0.         0.         0.11529269 0.         0.         0.\n",
            "  0.         0.         0.         0.        ]\n",
            " [0.         0.         0.11528307 0.         0.         0.\n",
            "  0.         0.         0.         0.        ]\n",
            " [0.         0.         0.         0.         0.         0.\n",
            "  0.         0.         0.11156    0.        ]\n",
            " [0.         0.         0.         0.         0.         0.\n",
            "  0.         0.         0.11156294 0.        ]\n",
            " [0.11617587 0.         0.         0.         0.         0.\n",
            "  0.         0.         0.         0.        ]\n",
            " [0.         0.         0.         0.         0.         0.\n",
            "  0.11395806 0.         0.         0.        ]\n",
            " [0.         0.         0.         0.         0.         0.\n",
            "  0.         0.11555807 0.         0.        ]\n",
            " [0.         0.1177745  0.         0.         0.         0.\n",
            "  0.         0.         0.         0.        ]\n",
            " [0.         0.         0.11529075 0.         0.         0.\n",
            "  0.         0.         0.         0.        ]\n",
            " [0.         0.         0.         0.         0.         0.\n",
            "  0.         0.         0.11155892 0.        ]\n",
            " [0.         0.         0.         0.11090686 0.         0.\n",
            "  0.         0.         0.         0.        ]\n",
            " [0.         0.         0.         0.         0.         0.12539898\n",
            "  0.         0.         0.         0.        ]\n",
            " [0.         0.11777676 0.         0.         0.         0.\n",
            "  0.         0.         0.         0.        ]\n",
            " [0.         0.         0.         0.         0.         0.\n",
            "  0.         0.         0.         0.12085513]\n",
            " [0.         0.         0.         0.         0.         0.\n",
            "  0.11395758 0.         0.         0.        ]\n",
            " [0.         0.11777723 0.         0.         0.         0.\n",
            "  0.         0.         0.         0.        ]\n",
            " [0.         0.         0.         0.         0.         0.\n",
            "  0.         0.11554799 0.         0.        ]\n",
            " [0.         0.         0.         0.         0.         0.\n",
            "  0.         0.11555379 0.         0.        ]]\n"
          ]
        }
      ]
    },
    {
      "cell_type": "code",
      "source": [
        "delta_a3=sfmax-y\n",
        "delta_b3=np.sum(delta_a3,axis=0)\n",
        "delta_w3=np.dot(z2.T,delta_a3)\n",
        "delta_z2=np.dot(delta_a3,w3.T)\n",
        "\n",
        "print(delta_a3.shape)\n",
        "print(delta_b3.shape)\n",
        "print(delta_w3.shape)\n",
        "print(delta_z2.shape)"
      ],
      "metadata": {
        "colab": {
          "base_uri": "https://localhost:8080/"
        },
        "id": "lxKfnkREGP7O",
        "outputId": "e250ce34-2fb1-4d81-b699-6bfabddf8df5"
      },
      "execution_count": 27,
      "outputs": [
        {
          "output_type": "stream",
          "name": "stdout",
          "text": [
            "(20, 10)\n",
            "(10,)\n",
            "(200, 10)\n",
            "(20, 200)\n"
          ]
        }
      ]
    },
    {
      "cell_type": "code",
      "source": [
        "delta_a2=delta_z2*(-np.tanh(z2)**2)\n",
        "delta_b2=np.sum(delta_a2,axis=0)\n",
        "delta_w2=np.dot(z1.T,delta_a2)\n",
        "delta_z1=np.dot(delta_a2,w2.T)\n",
        "\n",
        "print(delta_a2.shape)\n",
        "print(delta_b2.shape)\n",
        "print(delta_w2.shape)\n",
        "print(delta_z1.shape)"
      ],
      "metadata": {
        "colab": {
          "base_uri": "https://localhost:8080/"
        },
        "id": "a1s-w784Ic_-",
        "outputId": "90c33f2f-9640-4aad-b79d-1021d108c233"
      },
      "execution_count": 28,
      "outputs": [
        {
          "output_type": "stream",
          "name": "stdout",
          "text": [
            "(20, 200)\n",
            "(200,)\n",
            "(400, 200)\n",
            "(20, 400)\n"
          ]
        }
      ]
    },
    {
      "cell_type": "code",
      "source": [
        "delta_a1=delta_z1*(1-np.tanh(z1)**2)\n",
        "delta_b1=np.sum(delta_a1,axis=0)\n",
        "delta_w1=np.dot(x.T,delta_a1)\n",
        "\n",
        "print(delta_a1.shape)\n",
        "print(delta_b1.shape)\n",
        "print(delta_w1.shape)"
      ],
      "metadata": {
        "colab": {
          "base_uri": "https://localhost:8080/"
        },
        "id": "auq1YbgoJ2xF",
        "outputId": "16704066-b32c-4181-8805-aac39862e854"
      },
      "execution_count": 29,
      "outputs": [
        {
          "output_type": "stream",
          "name": "stdout",
          "text": [
            "(20, 400)\n",
            "(400,)\n",
            "(784, 400)\n"
          ]
        }
      ]
    },
    {
      "cell_type": "code",
      "source": [
        "clf=ScratchSimpleNeuralNetrowkClassifier(n_epoch=30,n_features=784,n_nodes1=400,n_nodes2=200,n_output=10,sigma=0.01,n_batch=100,activate_function_key='tanh',lr=0.01, verbose = True)\n",
        "clf.fit(x_train,y_train_one_hot,x_val,y_val_one_hot)\n",
        "y_pred=clf.predict(x_val)"
      ],
      "metadata": {
        "colab": {
          "base_uri": "https://localhost:8080/"
        },
        "id": "5WCOHBhCLADc",
        "outputId": "b99f66b0-8b14-4fde-de5d-f1b2ec819890"
      },
      "execution_count": 31,
      "outputs": [
        {
          "output_type": "stream",
          "name": "stderr",
          "text": [
            "<ipython-input-10-b95c4ffc9059>:22: DeprecationWarning: `np.int` is a deprecated alias for the builtin `int`. To silence this warning, use `int` by itself. Doing this will not modify any behavior and is safe. When replacing `np.int`, you may wish to use e.g. `np.int64` or `np.int32` to specify the precision. If you wish to review your current use, check the release note link for additional information.\n",
            "Deprecated in NumPy 1.20; for more details and guidance: https://numpy.org/devdocs/release/1.20.0-notes.html#deprecations\n",
            "  self._stop = np.ceil(X.shape[0]/self.batch_size).astype(np.int)\n"
          ]
        },
        {
          "output_type": "stream",
          "name": "stdout",
          "text": [
            "epoch:  0 loss:   1.101 acc:0.256\n"
          ]
        },
        {
          "output_type": "stream",
          "name": "stderr",
          "text": [
            "<ipython-input-10-b95c4ffc9059>:22: DeprecationWarning: `np.int` is a deprecated alias for the builtin `int`. To silence this warning, use `int` by itself. Doing this will not modify any behavior and is safe. When replacing `np.int`, you may wish to use e.g. `np.int64` or `np.int32` to specify the precision. If you wish to review your current use, check the release note link for additional information.\n",
            "Deprecated in NumPy 1.20; for more details and guidance: https://numpy.org/devdocs/release/1.20.0-notes.html#deprecations\n",
            "  self._stop = np.ceil(X.shape[0]/self.batch_size).astype(np.int)\n"
          ]
        },
        {
          "output_type": "stream",
          "name": "stdout",
          "text": [
            "epoch:  1 loss:   1.073 acc:0.376\n"
          ]
        },
        {
          "output_type": "stream",
          "name": "stderr",
          "text": [
            "<ipython-input-10-b95c4ffc9059>:22: DeprecationWarning: `np.int` is a deprecated alias for the builtin `int`. To silence this warning, use `int` by itself. Doing this will not modify any behavior and is safe. When replacing `np.int`, you may wish to use e.g. `np.int64` or `np.int32` to specify the precision. If you wish to review your current use, check the release note link for additional information.\n",
            "Deprecated in NumPy 1.20; for more details and guidance: https://numpy.org/devdocs/release/1.20.0-notes.html#deprecations\n",
            "  self._stop = np.ceil(X.shape[0]/self.batch_size).astype(np.int)\n"
          ]
        },
        {
          "output_type": "stream",
          "name": "stdout",
          "text": [
            "epoch:  2 loss:   0.820 acc:0.443\n"
          ]
        },
        {
          "output_type": "stream",
          "name": "stderr",
          "text": [
            "<ipython-input-10-b95c4ffc9059>:22: DeprecationWarning: `np.int` is a deprecated alias for the builtin `int`. To silence this warning, use `int` by itself. Doing this will not modify any behavior and is safe. When replacing `np.int`, you may wish to use e.g. `np.int64` or `np.int32` to specify the precision. If you wish to review your current use, check the release note link for additional information.\n",
            "Deprecated in NumPy 1.20; for more details and guidance: https://numpy.org/devdocs/release/1.20.0-notes.html#deprecations\n",
            "  self._stop = np.ceil(X.shape[0]/self.batch_size).astype(np.int)\n"
          ]
        },
        {
          "output_type": "stream",
          "name": "stdout",
          "text": [
            "epoch:  3 loss:   0.497 acc:0.664\n"
          ]
        },
        {
          "output_type": "stream",
          "name": "stderr",
          "text": [
            "<ipython-input-10-b95c4ffc9059>:22: DeprecationWarning: `np.int` is a deprecated alias for the builtin `int`. To silence this warning, use `int` by itself. Doing this will not modify any behavior and is safe. When replacing `np.int`, you may wish to use e.g. `np.int64` or `np.int32` to specify the precision. If you wish to review your current use, check the release note link for additional information.\n",
            "Deprecated in NumPy 1.20; for more details and guidance: https://numpy.org/devdocs/release/1.20.0-notes.html#deprecations\n",
            "  self._stop = np.ceil(X.shape[0]/self.batch_size).astype(np.int)\n"
          ]
        },
        {
          "output_type": "stream",
          "name": "stdout",
          "text": [
            "epoch:  4 loss:   0.355 acc:0.786\n"
          ]
        },
        {
          "output_type": "stream",
          "name": "stderr",
          "text": [
            "<ipython-input-10-b95c4ffc9059>:22: DeprecationWarning: `np.int` is a deprecated alias for the builtin `int`. To silence this warning, use `int` by itself. Doing this will not modify any behavior and is safe. When replacing `np.int`, you may wish to use e.g. `np.int64` or `np.int32` to specify the precision. If you wish to review your current use, check the release note link for additional information.\n",
            "Deprecated in NumPy 1.20; for more details and guidance: https://numpy.org/devdocs/release/1.20.0-notes.html#deprecations\n",
            "  self._stop = np.ceil(X.shape[0]/self.batch_size).astype(np.int)\n"
          ]
        },
        {
          "output_type": "stream",
          "name": "stdout",
          "text": [
            "epoch:  5 loss:   0.291 acc:0.823\n"
          ]
        },
        {
          "output_type": "stream",
          "name": "stderr",
          "text": [
            "<ipython-input-10-b95c4ffc9059>:22: DeprecationWarning: `np.int` is a deprecated alias for the builtin `int`. To silence this warning, use `int` by itself. Doing this will not modify any behavior and is safe. When replacing `np.int`, you may wish to use e.g. `np.int64` or `np.int32` to specify the precision. If you wish to review your current use, check the release note link for additional information.\n",
            "Deprecated in NumPy 1.20; for more details and guidance: https://numpy.org/devdocs/release/1.20.0-notes.html#deprecations\n",
            "  self._stop = np.ceil(X.shape[0]/self.batch_size).astype(np.int)\n"
          ]
        },
        {
          "output_type": "stream",
          "name": "stdout",
          "text": [
            "epoch:  6 loss:   0.254 acc:0.846\n"
          ]
        },
        {
          "output_type": "stream",
          "name": "stderr",
          "text": [
            "<ipython-input-10-b95c4ffc9059>:22: DeprecationWarning: `np.int` is a deprecated alias for the builtin `int`. To silence this warning, use `int` by itself. Doing this will not modify any behavior and is safe. When replacing `np.int`, you may wish to use e.g. `np.int64` or `np.int32` to specify the precision. If you wish to review your current use, check the release note link for additional information.\n",
            "Deprecated in NumPy 1.20; for more details and guidance: https://numpy.org/devdocs/release/1.20.0-notes.html#deprecations\n",
            "  self._stop = np.ceil(X.shape[0]/self.batch_size).astype(np.int)\n"
          ]
        },
        {
          "output_type": "stream",
          "name": "stdout",
          "text": [
            "epoch:  7 loss:   0.229 acc:0.862\n"
          ]
        },
        {
          "output_type": "stream",
          "name": "stderr",
          "text": [
            "<ipython-input-10-b95c4ffc9059>:22: DeprecationWarning: `np.int` is a deprecated alias for the builtin `int`. To silence this warning, use `int` by itself. Doing this will not modify any behavior and is safe. When replacing `np.int`, you may wish to use e.g. `np.int64` or `np.int32` to specify the precision. If you wish to review your current use, check the release note link for additional information.\n",
            "Deprecated in NumPy 1.20; for more details and guidance: https://numpy.org/devdocs/release/1.20.0-notes.html#deprecations\n",
            "  self._stop = np.ceil(X.shape[0]/self.batch_size).astype(np.int)\n"
          ]
        },
        {
          "output_type": "stream",
          "name": "stdout",
          "text": [
            "epoch:  8 loss:   0.212 acc:0.873\n"
          ]
        },
        {
          "output_type": "stream",
          "name": "stderr",
          "text": [
            "<ipython-input-10-b95c4ffc9059>:22: DeprecationWarning: `np.int` is a deprecated alias for the builtin `int`. To silence this warning, use `int` by itself. Doing this will not modify any behavior and is safe. When replacing `np.int`, you may wish to use e.g. `np.int64` or `np.int32` to specify the precision. If you wish to review your current use, check the release note link for additional information.\n",
            "Deprecated in NumPy 1.20; for more details and guidance: https://numpy.org/devdocs/release/1.20.0-notes.html#deprecations\n",
            "  self._stop = np.ceil(X.shape[0]/self.batch_size).astype(np.int)\n"
          ]
        },
        {
          "output_type": "stream",
          "name": "stdout",
          "text": [
            "epoch:  9 loss:   0.200 acc:0.881\n"
          ]
        },
        {
          "output_type": "stream",
          "name": "stderr",
          "text": [
            "<ipython-input-10-b95c4ffc9059>:22: DeprecationWarning: `np.int` is a deprecated alias for the builtin `int`. To silence this warning, use `int` by itself. Doing this will not modify any behavior and is safe. When replacing `np.int`, you may wish to use e.g. `np.int64` or `np.int32` to specify the precision. If you wish to review your current use, check the release note link for additional information.\n",
            "Deprecated in NumPy 1.20; for more details and guidance: https://numpy.org/devdocs/release/1.20.0-notes.html#deprecations\n",
            "  self._stop = np.ceil(X.shape[0]/self.batch_size).astype(np.int)\n"
          ]
        },
        {
          "output_type": "stream",
          "name": "stdout",
          "text": [
            "epoch: 10 loss:   0.190 acc:0.887\n"
          ]
        },
        {
          "output_type": "stream",
          "name": "stderr",
          "text": [
            "<ipython-input-10-b95c4ffc9059>:22: DeprecationWarning: `np.int` is a deprecated alias for the builtin `int`. To silence this warning, use `int` by itself. Doing this will not modify any behavior and is safe. When replacing `np.int`, you may wish to use e.g. `np.int64` or `np.int32` to specify the precision. If you wish to review your current use, check the release note link for additional information.\n",
            "Deprecated in NumPy 1.20; for more details and guidance: https://numpy.org/devdocs/release/1.20.0-notes.html#deprecations\n",
            "  self._stop = np.ceil(X.shape[0]/self.batch_size).astype(np.int)\n"
          ]
        },
        {
          "output_type": "stream",
          "name": "stdout",
          "text": [
            "epoch: 11 loss:   0.182 acc:0.892\n"
          ]
        },
        {
          "output_type": "stream",
          "name": "stderr",
          "text": [
            "<ipython-input-10-b95c4ffc9059>:22: DeprecationWarning: `np.int` is a deprecated alias for the builtin `int`. To silence this warning, use `int` by itself. Doing this will not modify any behavior and is safe. When replacing `np.int`, you may wish to use e.g. `np.int64` or `np.int32` to specify the precision. If you wish to review your current use, check the release note link for additional information.\n",
            "Deprecated in NumPy 1.20; for more details and guidance: https://numpy.org/devdocs/release/1.20.0-notes.html#deprecations\n",
            "  self._stop = np.ceil(X.shape[0]/self.batch_size).astype(np.int)\n"
          ]
        },
        {
          "output_type": "stream",
          "name": "stdout",
          "text": [
            "epoch: 12 loss:   0.176 acc:0.895\n"
          ]
        },
        {
          "output_type": "stream",
          "name": "stderr",
          "text": [
            "<ipython-input-10-b95c4ffc9059>:22: DeprecationWarning: `np.int` is a deprecated alias for the builtin `int`. To silence this warning, use `int` by itself. Doing this will not modify any behavior and is safe. When replacing `np.int`, you may wish to use e.g. `np.int64` or `np.int32` to specify the precision. If you wish to review your current use, check the release note link for additional information.\n",
            "Deprecated in NumPy 1.20; for more details and guidance: https://numpy.org/devdocs/release/1.20.0-notes.html#deprecations\n",
            "  self._stop = np.ceil(X.shape[0]/self.batch_size).astype(np.int)\n"
          ]
        },
        {
          "output_type": "stream",
          "name": "stdout",
          "text": [
            "epoch: 13 loss:   0.171 acc:0.898\n"
          ]
        },
        {
          "output_type": "stream",
          "name": "stderr",
          "text": [
            "<ipython-input-10-b95c4ffc9059>:22: DeprecationWarning: `np.int` is a deprecated alias for the builtin `int`. To silence this warning, use `int` by itself. Doing this will not modify any behavior and is safe. When replacing `np.int`, you may wish to use e.g. `np.int64` or `np.int32` to specify the precision. If you wish to review your current use, check the release note link for additional information.\n",
            "Deprecated in NumPy 1.20; for more details and guidance: https://numpy.org/devdocs/release/1.20.0-notes.html#deprecations\n",
            "  self._stop = np.ceil(X.shape[0]/self.batch_size).astype(np.int)\n"
          ]
        },
        {
          "output_type": "stream",
          "name": "stdout",
          "text": [
            "epoch: 14 loss:   0.167 acc:0.900\n"
          ]
        },
        {
          "output_type": "stream",
          "name": "stderr",
          "text": [
            "<ipython-input-10-b95c4ffc9059>:22: DeprecationWarning: `np.int` is a deprecated alias for the builtin `int`. To silence this warning, use `int` by itself. Doing this will not modify any behavior and is safe. When replacing `np.int`, you may wish to use e.g. `np.int64` or `np.int32` to specify the precision. If you wish to review your current use, check the release note link for additional information.\n",
            "Deprecated in NumPy 1.20; for more details and guidance: https://numpy.org/devdocs/release/1.20.0-notes.html#deprecations\n",
            "  self._stop = np.ceil(X.shape[0]/self.batch_size).astype(np.int)\n"
          ]
        },
        {
          "output_type": "stream",
          "name": "stdout",
          "text": [
            "epoch: 15 loss:   0.163 acc:0.902\n"
          ]
        },
        {
          "output_type": "stream",
          "name": "stderr",
          "text": [
            "<ipython-input-10-b95c4ffc9059>:22: DeprecationWarning: `np.int` is a deprecated alias for the builtin `int`. To silence this warning, use `int` by itself. Doing this will not modify any behavior and is safe. When replacing `np.int`, you may wish to use e.g. `np.int64` or `np.int32` to specify the precision. If you wish to review your current use, check the release note link for additional information.\n",
            "Deprecated in NumPy 1.20; for more details and guidance: https://numpy.org/devdocs/release/1.20.0-notes.html#deprecations\n",
            "  self._stop = np.ceil(X.shape[0]/self.batch_size).astype(np.int)\n"
          ]
        },
        {
          "output_type": "stream",
          "name": "stdout",
          "text": [
            "epoch: 16 loss:   0.160 acc:0.905\n"
          ]
        },
        {
          "output_type": "stream",
          "name": "stderr",
          "text": [
            "<ipython-input-10-b95c4ffc9059>:22: DeprecationWarning: `np.int` is a deprecated alias for the builtin `int`. To silence this warning, use `int` by itself. Doing this will not modify any behavior and is safe. When replacing `np.int`, you may wish to use e.g. `np.int64` or `np.int32` to specify the precision. If you wish to review your current use, check the release note link for additional information.\n",
            "Deprecated in NumPy 1.20; for more details and guidance: https://numpy.org/devdocs/release/1.20.0-notes.html#deprecations\n",
            "  self._stop = np.ceil(X.shape[0]/self.batch_size).astype(np.int)\n"
          ]
        },
        {
          "output_type": "stream",
          "name": "stdout",
          "text": [
            "epoch: 17 loss:   0.157 acc:0.907\n"
          ]
        },
        {
          "output_type": "stream",
          "name": "stderr",
          "text": [
            "<ipython-input-10-b95c4ffc9059>:22: DeprecationWarning: `np.int` is a deprecated alias for the builtin `int`. To silence this warning, use `int` by itself. Doing this will not modify any behavior and is safe. When replacing `np.int`, you may wish to use e.g. `np.int64` or `np.int32` to specify the precision. If you wish to review your current use, check the release note link for additional information.\n",
            "Deprecated in NumPy 1.20; for more details and guidance: https://numpy.org/devdocs/release/1.20.0-notes.html#deprecations\n",
            "  self._stop = np.ceil(X.shape[0]/self.batch_size).astype(np.int)\n"
          ]
        },
        {
          "output_type": "stream",
          "name": "stdout",
          "text": [
            "epoch: 18 loss:   0.154 acc:0.909\n"
          ]
        },
        {
          "output_type": "stream",
          "name": "stderr",
          "text": [
            "<ipython-input-10-b95c4ffc9059>:22: DeprecationWarning: `np.int` is a deprecated alias for the builtin `int`. To silence this warning, use `int` by itself. Doing this will not modify any behavior and is safe. When replacing `np.int`, you may wish to use e.g. `np.int64` or `np.int32` to specify the precision. If you wish to review your current use, check the release note link for additional information.\n",
            "Deprecated in NumPy 1.20; for more details and guidance: https://numpy.org/devdocs/release/1.20.0-notes.html#deprecations\n",
            "  self._stop = np.ceil(X.shape[0]/self.batch_size).astype(np.int)\n"
          ]
        },
        {
          "output_type": "stream",
          "name": "stdout",
          "text": [
            "epoch: 19 loss:   0.152 acc:0.910\n"
          ]
        },
        {
          "output_type": "stream",
          "name": "stderr",
          "text": [
            "<ipython-input-10-b95c4ffc9059>:22: DeprecationWarning: `np.int` is a deprecated alias for the builtin `int`. To silence this warning, use `int` by itself. Doing this will not modify any behavior and is safe. When replacing `np.int`, you may wish to use e.g. `np.int64` or `np.int32` to specify the precision. If you wish to review your current use, check the release note link for additional information.\n",
            "Deprecated in NumPy 1.20; for more details and guidance: https://numpy.org/devdocs/release/1.20.0-notes.html#deprecations\n",
            "  self._stop = np.ceil(X.shape[0]/self.batch_size).astype(np.int)\n"
          ]
        },
        {
          "output_type": "stream",
          "name": "stdout",
          "text": [
            "epoch: 20 loss:   0.149 acc:0.912\n"
          ]
        },
        {
          "output_type": "stream",
          "name": "stderr",
          "text": [
            "<ipython-input-10-b95c4ffc9059>:22: DeprecationWarning: `np.int` is a deprecated alias for the builtin `int`. To silence this warning, use `int` by itself. Doing this will not modify any behavior and is safe. When replacing `np.int`, you may wish to use e.g. `np.int64` or `np.int32` to specify the precision. If you wish to review your current use, check the release note link for additional information.\n",
            "Deprecated in NumPy 1.20; for more details and guidance: https://numpy.org/devdocs/release/1.20.0-notes.html#deprecations\n",
            "  self._stop = np.ceil(X.shape[0]/self.batch_size).astype(np.int)\n"
          ]
        },
        {
          "output_type": "stream",
          "name": "stdout",
          "text": [
            "epoch: 21 loss:   0.147 acc:0.913\n"
          ]
        },
        {
          "output_type": "stream",
          "name": "stderr",
          "text": [
            "<ipython-input-10-b95c4ffc9059>:22: DeprecationWarning: `np.int` is a deprecated alias for the builtin `int`. To silence this warning, use `int` by itself. Doing this will not modify any behavior and is safe. When replacing `np.int`, you may wish to use e.g. `np.int64` or `np.int32` to specify the precision. If you wish to review your current use, check the release note link for additional information.\n",
            "Deprecated in NumPy 1.20; for more details and guidance: https://numpy.org/devdocs/release/1.20.0-notes.html#deprecations\n",
            "  self._stop = np.ceil(X.shape[0]/self.batch_size).astype(np.int)\n"
          ]
        },
        {
          "output_type": "stream",
          "name": "stdout",
          "text": [
            "epoch: 22 loss:   0.145 acc:0.915\n"
          ]
        },
        {
          "output_type": "stream",
          "name": "stderr",
          "text": [
            "<ipython-input-10-b95c4ffc9059>:22: DeprecationWarning: `np.int` is a deprecated alias for the builtin `int`. To silence this warning, use `int` by itself. Doing this will not modify any behavior and is safe. When replacing `np.int`, you may wish to use e.g. `np.int64` or `np.int32` to specify the precision. If you wish to review your current use, check the release note link for additional information.\n",
            "Deprecated in NumPy 1.20; for more details and guidance: https://numpy.org/devdocs/release/1.20.0-notes.html#deprecations\n",
            "  self._stop = np.ceil(X.shape[0]/self.batch_size).astype(np.int)\n"
          ]
        },
        {
          "output_type": "stream",
          "name": "stdout",
          "text": [
            "epoch: 23 loss:   0.142 acc:0.917\n"
          ]
        },
        {
          "output_type": "stream",
          "name": "stderr",
          "text": [
            "<ipython-input-10-b95c4ffc9059>:22: DeprecationWarning: `np.int` is a deprecated alias for the builtin `int`. To silence this warning, use `int` by itself. Doing this will not modify any behavior and is safe. When replacing `np.int`, you may wish to use e.g. `np.int64` or `np.int32` to specify the precision. If you wish to review your current use, check the release note link for additional information.\n",
            "Deprecated in NumPy 1.20; for more details and guidance: https://numpy.org/devdocs/release/1.20.0-notes.html#deprecations\n",
            "  self._stop = np.ceil(X.shape[0]/self.batch_size).astype(np.int)\n"
          ]
        },
        {
          "output_type": "stream",
          "name": "stdout",
          "text": [
            "epoch: 24 loss:   0.140 acc:0.918\n"
          ]
        },
        {
          "output_type": "stream",
          "name": "stderr",
          "text": [
            "<ipython-input-10-b95c4ffc9059>:22: DeprecationWarning: `np.int` is a deprecated alias for the builtin `int`. To silence this warning, use `int` by itself. Doing this will not modify any behavior and is safe. When replacing `np.int`, you may wish to use e.g. `np.int64` or `np.int32` to specify the precision. If you wish to review your current use, check the release note link for additional information.\n",
            "Deprecated in NumPy 1.20; for more details and guidance: https://numpy.org/devdocs/release/1.20.0-notes.html#deprecations\n",
            "  self._stop = np.ceil(X.shape[0]/self.batch_size).astype(np.int)\n"
          ]
        },
        {
          "output_type": "stream",
          "name": "stdout",
          "text": [
            "epoch: 25 loss:   0.138 acc:0.919\n"
          ]
        },
        {
          "output_type": "stream",
          "name": "stderr",
          "text": [
            "<ipython-input-10-b95c4ffc9059>:22: DeprecationWarning: `np.int` is a deprecated alias for the builtin `int`. To silence this warning, use `int` by itself. Doing this will not modify any behavior and is safe. When replacing `np.int`, you may wish to use e.g. `np.int64` or `np.int32` to specify the precision. If you wish to review your current use, check the release note link for additional information.\n",
            "Deprecated in NumPy 1.20; for more details and guidance: https://numpy.org/devdocs/release/1.20.0-notes.html#deprecations\n",
            "  self._stop = np.ceil(X.shape[0]/self.batch_size).astype(np.int)\n"
          ]
        },
        {
          "output_type": "stream",
          "name": "stdout",
          "text": [
            "epoch: 26 loss:   0.136 acc:0.920\n"
          ]
        },
        {
          "output_type": "stream",
          "name": "stderr",
          "text": [
            "<ipython-input-10-b95c4ffc9059>:22: DeprecationWarning: `np.int` is a deprecated alias for the builtin `int`. To silence this warning, use `int` by itself. Doing this will not modify any behavior and is safe. When replacing `np.int`, you may wish to use e.g. `np.int64` or `np.int32` to specify the precision. If you wish to review your current use, check the release note link for additional information.\n",
            "Deprecated in NumPy 1.20; for more details and guidance: https://numpy.org/devdocs/release/1.20.0-notes.html#deprecations\n",
            "  self._stop = np.ceil(X.shape[0]/self.batch_size).astype(np.int)\n"
          ]
        },
        {
          "output_type": "stream",
          "name": "stdout",
          "text": [
            "epoch: 27 loss:   0.134 acc:0.921\n"
          ]
        },
        {
          "output_type": "stream",
          "name": "stderr",
          "text": [
            "<ipython-input-10-b95c4ffc9059>:22: DeprecationWarning: `np.int` is a deprecated alias for the builtin `int`. To silence this warning, use `int` by itself. Doing this will not modify any behavior and is safe. When replacing `np.int`, you may wish to use e.g. `np.int64` or `np.int32` to specify the precision. If you wish to review your current use, check the release note link for additional information.\n",
            "Deprecated in NumPy 1.20; for more details and guidance: https://numpy.org/devdocs/release/1.20.0-notes.html#deprecations\n",
            "  self._stop = np.ceil(X.shape[0]/self.batch_size).astype(np.int)\n"
          ]
        },
        {
          "output_type": "stream",
          "name": "stdout",
          "text": [
            "epoch: 28 loss:   0.132 acc:0.922\n"
          ]
        },
        {
          "output_type": "stream",
          "name": "stderr",
          "text": [
            "<ipython-input-10-b95c4ffc9059>:22: DeprecationWarning: `np.int` is a deprecated alias for the builtin `int`. To silence this warning, use `int` by itself. Doing this will not modify any behavior and is safe. When replacing `np.int`, you may wish to use e.g. `np.int64` or `np.int32` to specify the precision. If you wish to review your current use, check the release note link for additional information.\n",
            "Deprecated in NumPy 1.20; for more details and guidance: https://numpy.org/devdocs/release/1.20.0-notes.html#deprecations\n",
            "  self._stop = np.ceil(X.shape[0]/self.batch_size).astype(np.int)\n"
          ]
        },
        {
          "output_type": "stream",
          "name": "stdout",
          "text": [
            "epoch: 29 loss:   0.130 acc:0.923\n"
          ]
        }
      ]
    },
    {
      "cell_type": "code",
      "source": [
        "print(y_pred)"
      ],
      "metadata": {
        "id": "OYx0FWIdMhGB",
        "colab": {
          "base_uri": "https://localhost:8080/"
        },
        "outputId": "692d5735-f562-41e1-ca8d-c1a37e58b168"
      },
      "execution_count": 32,
      "outputs": [
        {
          "output_type": "stream",
          "name": "stdout",
          "text": [
            "[2 4 9 ... 3 9 0]\n"
          ]
        }
      ]
    },
    {
      "cell_type": "code",
      "source": [
        "accuracy=accuracy_score(y_val,y_pred)\n",
        "print('accuracy:{:.3f}'.format(accuracy))"
      ],
      "metadata": {
        "id": "-OGrTZedM0GY",
        "colab": {
          "base_uri": "https://localhost:8080/"
        },
        "outputId": "091973d4-927f-4bd5-ac4a-47ebc36ff8ad"
      },
      "execution_count": 33,
      "outputs": [
        {
          "output_type": "stream",
          "name": "stdout",
          "text": [
            "accuracy:0.916\n"
          ]
        }
      ]
    },
    {
      "cell_type": "code",
      "source": [
        "fig=plt.subplots(figsize=(12,8))\n",
        "plt.rcParams[\"font.size\"]=20\n",
        "plt.plot(clf.log_loss,'rs--')\n",
        "plt.plot(clf.log_loss_val,'bo--');"
      ],
      "metadata": {
        "id": "89xEM1XdOOsp",
        "colab": {
          "base_uri": "https://localhost:8080/",
          "height": 483
        },
        "outputId": "85f5efc1-6f1b-43b7-b255-bd0a33c4622b"
      },
      "execution_count": 34,
      "outputs": [
        {
          "output_type": "display_data",
          "data": {
            "text/plain": [
              "<Figure size 864x576 with 1 Axes>"
            ],
            "image/png": "[encoded data removed]"
          },
          "metadata": {
            "needs_background": "light"
          }
        }
      ]
    },
    {
      "cell_type": "code",
      "source": [
        "fig=plt.subplots(figsize=(12,8))\n",
        "plt.rcParams[\"font.size\"]=20\n",
        "plt.plot(clf.log_acc,'rs--')\n",
        "plt.plot(clf.log_acc_val,'bo--');"
      ],
      "metadata": {
        "id": "DHG8cocqPCJm",
        "colab": {
          "base_uri": "https://localhost:8080/",
          "height": 492
        },
        "outputId": "84773850-4718-40f7-8d3f-5d55c3a94cc4"
      },
      "execution_count": 35,
      "outputs": [
        {
          "output_type": "display_data",
          "data": {
            "text/plain": [
              "<Figure size 864x576 with 1 Axes>"
            ],
            "image/png": "[encoded data removed]"
          },
          "metadata": {
            "needs_background": "light"
          }
        }
      ]
    },
    {
      "cell_type": "code",
      "source": [
        "import numpy as np\n",
        "import matplotlib.pyplot as plt\n",
        "\n",
        "num=5\n",
        "print('Estimation Reseult/correct results')\n",
        "\n",
        "true_false=y_pred==y_val\n",
        "false_list=np.where(true_false==False)[0].astype(np.int)\n",
        "if false_list.shape[0]<num:\n",
        "   num=false_list[0]\n",
        "fig=plt.figure(figsize=(6,6))\n",
        "fig.subplots_adjust(left=0, right=0.8, bottom=0, top=0.8, hspace=1, wspace=0.3)\n",
        "for i in range(num):\n",
        "    ax=fig.add_subplot(6,6,i+1,xticks=[],yticks=[])\n",
        "    ax.set_title(\"{}/{}\".format(y_pred[false_list[i]],y_val[false_list[i]]))\n",
        "    ax.imshow(x_val.reshape(-1,28,28)[false_list[i]],cmap='gray')\n",
        "\n",
        "\n",
        "\n"
      ],
      "metadata": {
        "colab": {
          "base_uri": "https://localhost:8080/",
          "height": 185
        },
        "id": "3Qk4R6HQQOb1",
        "outputId": "5b3468b9-3027-467d-e5de-0ab93c3f7a5a"
      },
      "execution_count": 42,
      "outputs": [
        {
          "output_type": "stream",
          "name": "stdout",
          "text": [
            "Estimation Reseult/correct results\n"
          ]
        },
        {
          "output_type": "stream",
          "name": "stderr",
          "text": [
            "<ipython-input-42-dcfbbcda29dd>:8: DeprecationWarning: `np.int` is a deprecated alias for the builtin `int`. To silence this warning, use `int` by itself. Doing this will not modify any behavior and is safe. When replacing `np.int`, you may wish to use e.g. `np.int64` or `np.int32` to specify the precision. If you wish to review your current use, check the release note link for additional information.\n",
            "Deprecated in NumPy 1.20; for more details and guidance: https://numpy.org/devdocs/release/1.20.0-notes.html#deprecations\n",
            "  false_list=np.where(true_false==False)[0].astype(np.int)\n"
          ]
        },
        {
          "output_type": "display_data",
          "data": {
            "text/plain": [
              "<Figure size 432x432 with 5 Axes>"
            ],
            "image/png": "[encoded data removed]"
          },
          "metadata": {}
        }
      ]
    }
  ]
}