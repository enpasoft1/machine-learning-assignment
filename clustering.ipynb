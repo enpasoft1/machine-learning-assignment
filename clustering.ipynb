{
  "nbformat": 4,
  "nbformat_minor": 0,
  "metadata": {
    "colab": {
      "provenance": [],
      "authorship_tag": "ABX9TyPbcG4UXMZLN57qthNjGRAw",
      "include_colab_link": true
    },
    "kernelspec": {
      "name": "python3",
      "display_name": "Python 3"
    },
    "language_info": {
      "name": "python"
    }
  },
  "cells": [
    {
      "cell_type": "markdown",
      "metadata": {
        "id": "view-in-github",
        "colab_type": "text"
      },
      "source": [
        "<a href=\"https://colab.research.google.com/github/sefahw/machine-learning-assignment/blob/main/clustering.ipynb\" target=\"_parent\"><img src=\"https://colab.research.google.com/assets/colab-badge.svg\" alt=\"Open In Colab\"/></a>"
      ]
    },
    {
      "cell_type": "code",
      "source": [
        "import numpy as np\n",
        "import matplotlib.pyplot as plt"
      ],
      "metadata": {
        "id": "95wKDVA-L4dr"
      },
      "execution_count": 1,
      "outputs": []
    },
    {
      "cell_type": "code",
      "execution_count": 2,
      "metadata": {
        "id": "vrO_Vkogouh6"
      },
      "outputs": [],
      "source": [
        "class ScratchKMeans():\n",
        "    \n",
        "    def __init__(self, n_clusters, n_init, max_iter, tol, verbose=False):\n",
        "        self.n_clusters = n_clusters\n",
        "        self.n_init = n_init\n",
        "        self.max_iter = max_iter\n",
        "        self.tol = tol\n",
        "        self.verbose = verbose\n",
        "    def _remyu(self,x):\n",
        "        for j in range (self.n_clusters):\n",
        "            self.myu[j]=np.mean(x[x[:,-1]==j,:-1],axis=0)\n",
        "    def _reclustering(self,x):\n",
        "        for i in range(len(x)):\n",
        "            dist_m=10**10\n",
        "            for j in range(self.n_clusters):\n",
        "                dist=np.sqrt(np.sum((x[i,:-1]-self.myu[j])**2))\n",
        "                if dist<dist_m:\n",
        "                   dist_m=dist\n",
        "                   x[i,-1]=j\n",
        "    def _sse(self,x):\n",
        "        self.best_sse=10**10\n",
        "        sse=0\n",
        "        for i in range(len(x)): \n",
        "            for j in range(self.n_clusters):\n",
        "                if j==x[i,-1]:\n",
        "                   sse+=np.sum(x[i,:-1]-self.myu[j]**2)\n",
        "        if self.best_sse>sse:\n",
        "           self.best_sse=sse\n",
        "           self.record_myu=self.record_myu\n",
        "          #  self.record_clusr=self.n_clusters\n",
        "    def _silhouett(self,x):\n",
        "        return \n",
        "    def fit(self,x):\n",
        "        for k in range (self.n_init):\n",
        "            self.myu=x[np.random.choice(len(x),size=self.n_clusters,replace=False)]\n",
        "            cluster=np.zeros(len(x))\n",
        "            x_cluster=np.concatenate([x,cluster.reshape(-1,1)],axis=1)\n",
        "            for ite in range (self.max_iter):\n",
        "                self._reclustering(x_cluster)\n",
        "                old_myu=self.myu\n",
        "                self._remyu(x_cluster)\n",
        "\n",
        "                if self.verbose:\n",
        "                   fig=plt.subplots(figsize=(10,8))\n",
        "                   plt.rcparams[\"font.size\"]=20\n",
        "\n",
        "                   for i in range (self.n_clusters):\n",
        "                       plt.scatter(x[x_cluster[:,-1]==i,0],x[x_cluster[:,-1]==1],s=80)\n",
        "                   plt.scatter(self.myu[:,0],self.myu[:,1],s=100)\n",
        "                   plt.show()\n",
        "                if np.sum(old_myu-self.myu)<self.tol:\n",
        "                   self._sse(x_cluster)\n",
        "                   break\n",
        "                self._sse(x_cluster)   \n",
        "    def predict(self,x):\n",
        "        y_pred=np.zeros(len(x))\n",
        "        for i in range (len(x)):\n",
        "            dist_m=10**10\n",
        "            for j in range(self.record_clucter):\n",
        "                dist=np.sqrt+(np.sum((x[i]-self.record_myu[j])**2))\n",
        "                if dist<dist_m:\n",
        "                   dist_m=dist\n",
        "                   y_pred[i]=j\n",
        "        return y_pred              "
      ]
    },
    {
      "cell_type": "code",
      "source": [
        "class ScratchKMeans_speed():\n",
        "    def __init__(self, n_clusters=2, n_init=20, max_iter=100, tol=1e-5, verbose=False):\n",
        "        self.n_clusters = n_clusters\n",
        "        self.n_init = n_init\n",
        "        self.max_iter = max_iter\n",
        "        self.tol = tol\n",
        "        self.verbose = verbose\n",
        "    def _remyu(self,x):\n",
        "        for j in range (self.n_clusters):\n",
        "            self.myu[j]=np.mean(x[x[:,-1]==j,:-1],axis=0)\n",
        "\n",
        "    def _reclustering(self,x):\n",
        "        diff=(x-self.myu[:,None]).reshape(-1,2)\n",
        "        self.dist=np.linalg.norm(diff,ord=2,axis=1).reshape(self.n_clusters,-1).T\n",
        "\n",
        "        self.cluster=np.argmin(self.dist,axis=1)\n",
        "\n",
        "    def _sse(self,x):    \n",
        "        diff=(x-self.myu[:,None]).reshape(-1,2)\n",
        "        self.dist=np.linalg.norm(diff,ord=2,axis=1).reshape(self.n_clusters,-1).T\n",
        "        sse=np.sum(np.min(self.dist,axis=1)**2)\n",
        "\n",
        "        self.best_sse=10**10\n",
        "        if self.best_sse>sse:\n",
        "           self.best_sse=sse\n",
        "           self.record_myu=self.record_myu\n",
        "           self.record_cluster=self.n_clusters\n",
        "           self._silhouette(x) if self.n_clusters>=2 else _\n",
        "\n",
        "    def _silhouett(self,x):\n",
        "        ab=np.zeros([len(x),2])\n",
        "        self.silhouette_vals=np.zeros(len(x))\n",
        "        for i,j in enumerate(x):\n",
        "            ab[i,0]=np.mean(np.linalg.norm(j-x[self.cluster==self.cluster[i]],ord=2,axis=1))/len(x[self.cluster==self.cluster[i]]-1)\n",
        "            ab[i,1]=np.mean(np.linalg.norm(j-x[self.cluster==self.dist[i].argsort()[1]],ord=2,axis=1))\n",
        "\n",
        "            self.silhouette_vals[i]=(ab[i,1] - ab[1,0])/np.max(ab[i])\n",
        "        self.silouett_avg=np.mean(self.silhouette_vals)\n",
        "        self.y_km=self.cluster\n",
        "        self.cluster_labels=np.unique(self.cluster)\n",
        "\n",
        "    def fit(self,x):\n",
        "        for k in range (self.n_init):\n",
        "            self.myu=x[np.random.choice(len(x),size=self.n_clusters,replace=False)]\n",
        "            \n",
        "            for ite in range (self.max_iter):\n",
        "                self._reclustering(x)\n",
        "                old_myu=self.myu\n",
        "                self._remyu(x) \n",
        "                if self.verbose:\n",
        "                   fig=plt.subplots(figsize=(10,8))\n",
        "                   plt.rcparams[\"font.size\"]=20\n",
        "\n",
        "                   for i in range (self.n_clusters):\n",
        "                       plt.scatter(x[self.cluster==i,0],x[self.clustercluster==i,1],s=80)\n",
        "                   plt.scatter(self.myu[:,0],self.myu[:,1],s=100)\n",
        "                   plt.show()\n",
        "                if np.sum(old_myu-self.myu)<self.tol:\n",
        "                   self._sse(x)\n",
        "                   break\n",
        "                self._sse(x) \n",
        "    def predict(self,x):\n",
        "         diff=(x-self.record_myu[:,None]).reshape(-1,2)\n",
        "         dist=np.linalg.norm(diff,ord=2,axis=1).reshape(self.record_clusters,-1).T\n",
        "         return np.argmin(dist,axis=1)\n",
        "         \n",
        "\n",
        "\n"
      ],
      "metadata": {
        "id": "hsFSDMIjaKqR"
      },
      "execution_count": 3,
      "outputs": []
    },
    {
      "cell_type": "code",
      "source": [
        "from sklearn.datasets import make_blobs\n",
        "\n",
        "x, _ = make_blobs(n_samples=100,n_features=2,centers=4,cluster_std=0.5,shuffle=True,random_state=0)"
      ],
      "metadata": {
        "id": "He1ubqHOs6hH"
      },
      "execution_count": 4,
      "outputs": []
    },
    {
      "cell_type": "code",
      "source": [
        "x.shape"
      ],
      "metadata": {
        "colab": {
          "base_uri": "https://localhost:8080/"
        },
        "id": "VwzPlDY6tvq_",
        "outputId": "b5a5b931-2593-408e-d0bf-4579f28efcec"
      },
      "execution_count": 5,
      "outputs": [
        {
          "output_type": "execute_result",
          "data": {
            "text/plain": [
              "(100, 2)"
            ]
          },
          "metadata": {},
          "execution_count": 5
        }
      ]
    },
    {
      "cell_type": "code",
      "source": [
        "fig=plt.subplots(figsize=(12,8))\n",
        "plt.rcParams[\"font.size\"]=20\n",
        "plt.scatter(x[:,0],x[:,1],s=80);"
      ],
      "metadata": {
        "colab": {
          "base_uri": "https://localhost:8080/",
          "height": 483
        },
        "id": "Vdzfba9wtxla",
        "outputId": "9a1ee242-c4f9-4daa-d0bc-2350f912f1ee"
      },
      "execution_count": 6,
      "outputs": [
        {
          "output_type": "display_data",
          "data": {
            "text/plain": [
              "<Figure size 864x576 with 1 Axes>"
            ],
            "image/png": "[encoded data removed]"
          },
          "metadata": {
            "needs_background": "light"
          }
        }
      ]
    },
    {
      "cell_type": "code",
      "source": [
        "k=2\n",
        "myu= x [np.random.choice(len(x),size=k,replace=False)]\n",
        "print(myu.shape)\n",
        "print(myu)"
      ],
      "metadata": {
        "colab": {
          "base_uri": "https://localhost:8080/"
        },
        "id": "Ao64-l0Su0EN",
        "outputId": "a8e2997d-f4fb-401f-f48b-d07b9ac973dc"
      },
      "execution_count": 7,
      "outputs": [
        {
          "output_type": "stream",
          "name": "stdout",
          "text": [
            "(2, 2)\n",
            "[[ 1.05374379  4.49286859]\n",
            " [-0.59312453  3.37090459]]\n"
          ]
        }
      ]
    },
    {
      "cell_type": "code",
      "source": [
        "fig=plt.subplots(figsize=(12,8))\n",
        "plt.rcParams[\"font.size\"]=20\n",
        "plt.scatter(x[:,0],x[:,1],s=80)\n",
        "plt.scatter(myu[:,0],myu[:,1],s=80);"
      ],
      "metadata": {
        "colab": {
          "base_uri": "https://localhost:8080/",
          "height": 492
        },
        "id": "Xvx9jTtYvxjf",
        "outputId": "0695f5b3-9245-4e00-9c17-c834ee12ef50"
      },
      "execution_count": 8,
      "outputs": [
        {
          "output_type": "display_data",
          "data": {
            "text/plain": [
              "<Figure size 864x576 with 1 Axes>"
            ],
            "image/png": "[encoded data removed]"
          },
          "metadata": {
            "needs_background": "light"
          }
        }
      ]
    },
    {
      "cell_type": "code",
      "source": [
        "num=10\n",
        "label=np.random.randint(0,k,len(x[0:num]))\n",
        "x_test=np.concatenate([x[0:num],label.reshape(-1,1)],axis=1)\n",
        "print(x_test.shape)\n",
        "print(x_test)"
      ],
      "metadata": {
        "colab": {
          "base_uri": "https://localhost:8080/"
        },
        "id": "6x5KvX8HxV62",
        "outputId": "e9a7c931-0710-42e7-83b2-4ffed696e950"
      },
      "execution_count": 9,
      "outputs": [
        {
          "output_type": "stream",
          "name": "stdout",
          "text": [
            "(10, 3)\n",
            "[[ 0.72086751  3.71347124  0.        ]\n",
            " [-1.89468423  7.96898545  0.        ]\n",
            " [ 1.35678894  4.36462484  0.        ]\n",
            " [ 1.05374379  4.49286859  0.        ]\n",
            " [ 1.59141542  4.90497725  1.        ]\n",
            " [ 0.78260667  4.15263595  0.        ]\n",
            " [-1.95751686  3.87291474  0.        ]\n",
            " [-0.77354537  7.87923564  0.        ]\n",
            " [ 0.12313498  5.27917503  0.        ]\n",
            " [-1.43284669  7.71577043  1.        ]]\n"
          ]
        }
      ]
    },
    {
      "cell_type": "code",
      "source": [
        "np.sqrt(np.sum((x[0]-myu[0])**2))"
      ],
      "metadata": {
        "id": "15ayr0eTyXNw",
        "colab": {
          "base_uri": "https://localhost:8080/"
        },
        "outputId": "67ef9894-f4db-4e29-eec6-cdb9cd99cb01"
      },
      "execution_count": 10,
      "outputs": [
        {
          "output_type": "execute_result",
          "data": {
            "text/plain": [
              "0.8475062542327919"
            ]
          },
          "metadata": {},
          "execution_count": 10
        }
      ]
    },
    {
      "cell_type": "code",
      "source": [
        "np.linalg.norm(x[0]-myu[0],ord=2)\n",
        "       \n"
      ],
      "metadata": {
        "colab": {
          "base_uri": "https://localhost:8080/"
        },
        "id": "beOgeE7mjish",
        "outputId": "2f715af4-a2df-41cc-8cf5-1fbfbc71fa43"
      },
      "execution_count": 11,
      "outputs": [
        {
          "output_type": "execute_result",
          "data": {
            "text/plain": [
              "0.8475062542327919"
            ]
          },
          "metadata": {},
          "execution_count": 11
        }
      ]
    },
    {
      "cell_type": "code",
      "source": [
        "for i in range (5):\n",
        "    for j in range(len(myu)):\n",
        "        if j ==x_test[i,2]:\n",
        "            sse=np.sqrt(sum((x_test[i,0:2]-myu[j])**2))\n",
        "    print (sse) \n",
        "   "
      ],
      "metadata": {
        "colab": {
          "base_uri": "https://localhost:8080/"
        },
        "id": "kRr1qYlHj6Yl",
        "outputId": "756291dd-5bdf-4635-88e6-85249057397d"
      },
      "execution_count": 12,
      "outputs": [
        {
          "output_type": "stream",
          "name": "stdout",
          "text": [
            "0.8475062542327919\n",
            "4.558137365276674\n",
            "0.32906355402062953\n",
            "0.0\n",
            "2.6693807768642372\n"
          ]
        }
      ]
    },
    {
      "cell_type": "code",
      "source": [
        "for i in range (5):\n",
        "    for j in range(len(myu)):\n",
        "        if j ==x_test[i,2]:\n",
        "            sse=np.linalg.norm(x_test[i,0:2]-myu[j])\n",
        "    print (sse) "
      ],
      "metadata": {
        "colab": {
          "base_uri": "https://localhost:8080/"
        },
        "id": "d4CHQwDmmTJM",
        "outputId": "32c62cb3-0dfe-479f-8964-98d22d35997f"
      },
      "execution_count": 13,
      "outputs": [
        {
          "output_type": "stream",
          "name": "stdout",
          "text": [
            "0.8475062542327919\n",
            "4.558137365276674\n",
            "0.32906355402062953\n",
            "0.0\n",
            "2.6693807768642372\n"
          ]
        }
      ]
    },
    {
      "cell_type": "code",
      "source": [
        "for i in range (5):\n",
        "    dist_m=10**10\n",
        "    for j in range(len(myu)):\n",
        "        dist=np.sqrt(np.sum((x_test[1,:-1]-myu[j])**2))\n",
        "        print(dist)\n",
        "        if dist<dist_m:\n",
        "            dist_m=dist\n",
        "            x_test[i,-1]=j\n",
        "    print('New_Label:',x_test[i,2])        \n",
        "\n",
        "        "
      ],
      "metadata": {
        "colab": {
          "base_uri": "https://localhost:8080/"
        },
        "id": "tG6suiAHnNQO",
        "outputId": "a73e3793-9bb8-400c-e23f-d3b1535083e2"
      },
      "execution_count": 14,
      "outputs": [
        {
          "output_type": "stream",
          "name": "stdout",
          "text": [
            "4.558137365276674\n",
            "4.778745153017461\n",
            "New_Label: 0.0\n",
            "4.558137365276674\n",
            "4.778745153017461\n",
            "New_Label: 0.0\n",
            "4.558137365276674\n",
            "4.778745153017461\n",
            "New_Label: 0.0\n",
            "4.558137365276674\n",
            "4.778745153017461\n",
            "New_Label: 0.0\n",
            "4.558137365276674\n",
            "4.778745153017461\n",
            "New_Label: 0.0\n"
          ]
        }
      ]
    },
    {
      "cell_type": "code",
      "source": [
        "dist_nd=np.zeros([len(x),k])\n",
        "print(dist_nd.shape)\n",
        "\n",
        "for i in range(len(x)):\n",
        "    for j in range(k):\n",
        "        dist_nd[i,j]=np.linalg.norm(x[i]-myu[j])\n",
        "print(dist_nd[0:5])        "
      ],
      "metadata": {
        "colab": {
          "base_uri": "https://localhost:8080/"
        },
        "id": "N_q3ELL0mTEN",
        "outputId": "30cc1e99-bcf9-4f99-baa2-5fbdcf53cd34"
      },
      "execution_count": 15,
      "outputs": [
        {
          "output_type": "stream",
          "name": "stdout",
          "text": [
            "(100, 2)\n",
            "[[0.84750625 1.35791273]\n",
            " [4.55813737 4.77874515]\n",
            " [0.32906355 2.18852518]\n",
            " [0.         1.99273141]\n",
            " [0.67743954 2.66938078]]\n"
          ]
        }
      ]
    },
    {
      "cell_type": "code",
      "source": [
        "show=False\n",
        "if show:\n",
        "    for i in range(len(x)):\n",
        "        for j in range(k):\n",
        "            print(x[i]-myu[j])\n",
        "    \n"
      ],
      "metadata": {
        "id": "DiBIes3gnNWD"
      },
      "execution_count": 16,
      "outputs": []
    },
    {
      "cell_type": "code",
      "source": [
        "norm=(x-myu[:,None]).reshape(-1,2)\n",
        "\n",
        "\n",
        "cal=np.linalg.norm(norm,ord=2,axis=1).reshape(2,-1).T\n",
        "cal[0:5]"
      ],
      "metadata": {
        "colab": {
          "base_uri": "https://localhost:8080/"
        },
        "id": "49HiAe6zrsda",
        "outputId": "50102cc1-553f-40e5-df91-6eadc7b1de68"
      },
      "execution_count": 17,
      "outputs": [
        {
          "output_type": "execute_result",
          "data": {
            "text/plain": [
              "array([[0.84750625, 1.35791273],\n",
              "       [4.55813737, 4.77874515],\n",
              "       [0.32906355, 2.18852518],\n",
              "       [0.        , 1.99273141],\n",
              "       [0.67743954, 2.66938078]])"
            ]
          },
          "metadata": {},
          "execution_count": 17
        }
      ]
    },
    {
      "cell_type": "code",
      "source": [
        "cl=np.argmin(cal,axis=1)\n",
        "cl"
      ],
      "metadata": {
        "colab": {
          "base_uri": "https://localhost:8080/"
        },
        "id": "p9Tr-AO1sWPA",
        "outputId": "426bd8d9-66a5-4791-e69b-56076ec48f6d"
      },
      "execution_count": 18,
      "outputs": [
        {
          "output_type": "execute_result",
          "data": {
            "text/plain": [
              "array([0, 0, 0, 0, 0, 0, 1, 0, 0, 0, 0, 0, 0, 0, 0, 0, 1, 1, 1, 1, 0, 0,\n",
              "       1, 1, 0, 1, 1, 0, 0, 0, 1, 0, 1, 0, 1, 0, 0, 1, 0, 1, 0, 1, 0, 1,\n",
              "       1, 0, 1, 1, 0, 1, 0, 1, 1, 1, 1, 0, 0, 0, 0, 0, 0, 1, 1, 0, 1, 0,\n",
              "       1, 1, 0, 0, 0, 1, 0, 0, 0, 0, 1, 1, 1, 1, 1, 0, 1, 0, 1, 1, 1, 1,\n",
              "       0, 0, 0, 1, 1, 1, 1, 0, 0, 1, 0, 1])"
            ]
          },
          "metadata": {},
          "execution_count": 18
        }
      ]
    },
    {
      "cell_type": "code",
      "source": [
        "np.mean(x_test[x_test[:,2]==0,:-1],axis=0)"
      ],
      "metadata": {
        "colab": {
          "base_uri": "https://localhost:8080/"
        },
        "id": "NQvIPTmJsu50",
        "outputId": "f7a3d4c4-7ca2-4752-9c79-3cc11a3f7dc9"
      },
      "execution_count": 19,
      "outputs": [
        {
          "output_type": "execute_result",
          "data": {
            "text/plain": [
              "array([0.11142343, 5.18098763])"
            ]
          },
          "metadata": {},
          "execution_count": 19
        }
      ]
    },
    {
      "cell_type": "code",
      "source": [
        "fig=plt.subplots(figsize=(12,8))\n",
        "plt.rcParams[\"font.size\"]=20\n",
        "plt.scatter(x_test[x_test[:,2]==0,0],x_test[x_test[:,2]==0,1],s=80)\n",
        "plt.scatter(x_test[x_test[:,2]==1,0],x_test[x_test[:,2]==1,1],s=80)\n",
        "plt.scatter(myu[:,0],myu[:,1],s=80);"
      ],
      "metadata": {
        "colab": {
          "base_uri": "https://localhost:8080/",
          "height": 492
        },
        "id": "PJ2lu-GQtKla",
        "outputId": "45a7e315-e027-4c5e-c8fa-8707407bc09e"
      },
      "execution_count": 20,
      "outputs": [
        {
          "output_type": "display_data",
          "data": {
            "text/plain": [
              "<Figure size 864x576 with 1 Axes>"
            ],
            "image/png": "[encoded data removed]"
          },
          "metadata": {
            "needs_background": "light"
          }
        }
      ]
    },
    {
      "cell_type": "code",
      "source": [
        "from sklearn.model_selection import train_test_split\n",
        "x_train,x_valid=\\\n",
        "train_test_split(x,train_size=0.8,random_state=None)\n",
        "\n",
        "print(x_train.shape)\n",
        "print(x_valid.shape)"
      ],
      "metadata": {
        "id": "VdsuclJGv61P",
        "colab": {
          "base_uri": "https://localhost:8080/"
        },
        "outputId": "9f598bbf-64df-4860-b6b8-2695054a6d52"
      },
      "execution_count": 21,
      "outputs": [
        {
          "output_type": "stream",
          "name": "stdout",
          "text": [
            "(80, 2)\n",
            "(20, 2)\n"
          ]
        }
      ]
    },
    {
      "cell_type": "code",
      "source": [
        "clf=ScratchKMeans(n_clusters=4,n_init=50, max_iter=500,tol=1e-5,verbose=False)\n",
        "clf.fit(x_train)"
      ],
      "metadata": {
        "colab": {
          "base_uri": "https://localhost:8080/",
          "height": 344
        },
        "id": "uy-cmpk2eKAz",
        "outputId": "640e3a54-542e-455e-c961-e81adc940436"
      },
      "execution_count": 22,
      "outputs": [
        {
          "output_type": "error",
          "ename": "AttributeError",
          "evalue": "ignored",
          "traceback": [
            "\u001b[0;31m---------------------------------------------------------------------------\u001b[0m",
            "\u001b[0;31mAttributeError\u001b[0m                            Traceback (most recent call last)",
            "\u001b[0;32m<ipython-input-22-48fbe4b1b400>\u001b[0m in \u001b[0;36m<module>\u001b[0;34m\u001b[0m\n\u001b[1;32m      1\u001b[0m \u001b[0mclf\u001b[0m\u001b[0;34m=\u001b[0m\u001b[0mScratchKMeans\u001b[0m\u001b[0;34m(\u001b[0m\u001b[0mn_clusters\u001b[0m\u001b[0;34m=\u001b[0m\u001b[0;36m4\u001b[0m\u001b[0;34m,\u001b[0m\u001b[0mn_init\u001b[0m\u001b[0;34m=\u001b[0m\u001b[0;36m50\u001b[0m\u001b[0;34m,\u001b[0m \u001b[0mmax_iter\u001b[0m\u001b[0;34m=\u001b[0m\u001b[0;36m500\u001b[0m\u001b[0;34m,\u001b[0m\u001b[0mtol\u001b[0m\u001b[0;34m=\u001b[0m\u001b[0;36m1e-5\u001b[0m\u001b[0;34m,\u001b[0m\u001b[0mverbose\u001b[0m\u001b[0;34m=\u001b[0m\u001b[0;32mFalse\u001b[0m\u001b[0;34m)\u001b[0m\u001b[0;34m\u001b[0m\u001b[0;34m\u001b[0m\u001b[0m\n\u001b[0;32m----> 2\u001b[0;31m \u001b[0mclf\u001b[0m\u001b[0;34m.\u001b[0m\u001b[0mfit\u001b[0m\u001b[0;34m(\u001b[0m\u001b[0mx_train\u001b[0m\u001b[0;34m)\u001b[0m\u001b[0;34m\u001b[0m\u001b[0;34m\u001b[0m\u001b[0m\n\u001b[0m",
            "\u001b[0;32m<ipython-input-2-4e9a623cec8f>\u001b[0m in \u001b[0;36mfit\u001b[0;34m(self, x)\u001b[0m\n\u001b[1;32m     50\u001b[0m                    \u001b[0mplt\u001b[0m\u001b[0;34m.\u001b[0m\u001b[0mshow\u001b[0m\u001b[0;34m(\u001b[0m\u001b[0;34m)\u001b[0m\u001b[0;34m\u001b[0m\u001b[0;34m\u001b[0m\u001b[0m\n\u001b[1;32m     51\u001b[0m                 \u001b[0;32mif\u001b[0m \u001b[0mnp\u001b[0m\u001b[0;34m.\u001b[0m\u001b[0msum\u001b[0m\u001b[0;34m(\u001b[0m\u001b[0mold_myu\u001b[0m\u001b[0;34m-\u001b[0m\u001b[0mself\u001b[0m\u001b[0;34m.\u001b[0m\u001b[0mmyu\u001b[0m\u001b[0;34m)\u001b[0m\u001b[0;34m<\u001b[0m\u001b[0mself\u001b[0m\u001b[0;34m.\u001b[0m\u001b[0mtol\u001b[0m\u001b[0;34m:\u001b[0m\u001b[0;34m\u001b[0m\u001b[0;34m\u001b[0m\u001b[0m\n\u001b[0;32m---> 52\u001b[0;31m                    \u001b[0mself\u001b[0m\u001b[0;34m.\u001b[0m\u001b[0m_sse\u001b[0m\u001b[0;34m(\u001b[0m\u001b[0mx_cluster\u001b[0m\u001b[0;34m)\u001b[0m\u001b[0;34m\u001b[0m\u001b[0;34m\u001b[0m\u001b[0m\n\u001b[0m\u001b[1;32m     53\u001b[0m                    \u001b[0;32mbreak\u001b[0m\u001b[0;34m\u001b[0m\u001b[0;34m\u001b[0m\u001b[0m\n\u001b[1;32m     54\u001b[0m                 \u001b[0mself\u001b[0m\u001b[0;34m.\u001b[0m\u001b[0m_sse\u001b[0m\u001b[0;34m(\u001b[0m\u001b[0mx_cluster\u001b[0m\u001b[0;34m)\u001b[0m\u001b[0;34m\u001b[0m\u001b[0;34m\u001b[0m\u001b[0m\n",
            "\u001b[0;32m<ipython-input-2-4e9a623cec8f>\u001b[0m in \u001b[0;36m_sse\u001b[0;34m(self, x)\u001b[0m\n\u001b[1;32m     27\u001b[0m         \u001b[0;32mif\u001b[0m \u001b[0mself\u001b[0m\u001b[0;34m.\u001b[0m\u001b[0mbest_sse\u001b[0m\u001b[0;34m>\u001b[0m\u001b[0msse\u001b[0m\u001b[0;34m:\u001b[0m\u001b[0;34m\u001b[0m\u001b[0;34m\u001b[0m\u001b[0m\n\u001b[1;32m     28\u001b[0m            \u001b[0mself\u001b[0m\u001b[0;34m.\u001b[0m\u001b[0mbest_sse\u001b[0m\u001b[0;34m=\u001b[0m\u001b[0msse\u001b[0m\u001b[0;34m\u001b[0m\u001b[0;34m\u001b[0m\u001b[0m\n\u001b[0;32m---> 29\u001b[0;31m            \u001b[0mself\u001b[0m\u001b[0;34m.\u001b[0m\u001b[0mrecord_myu\u001b[0m\u001b[0;34m=\u001b[0m\u001b[0mself\u001b[0m\u001b[0;34m.\u001b[0m\u001b[0mrecord_myu\u001b[0m\u001b[0;34m\u001b[0m\u001b[0;34m\u001b[0m\u001b[0m\n\u001b[0m\u001b[1;32m     30\u001b[0m           \u001b[0;31m#  self.record_clusr=self.n_clusters\u001b[0m\u001b[0;34m\u001b[0m\u001b[0;34m\u001b[0m\u001b[0;34m\u001b[0m\u001b[0m\n\u001b[1;32m     31\u001b[0m     \u001b[0;32mdef\u001b[0m \u001b[0m_silhouett\u001b[0m\u001b[0;34m(\u001b[0m\u001b[0mself\u001b[0m\u001b[0;34m,\u001b[0m\u001b[0mx\u001b[0m\u001b[0;34m)\u001b[0m\u001b[0;34m:\u001b[0m\u001b[0;34m\u001b[0m\u001b[0;34m\u001b[0m\u001b[0m\n",
            "\u001b[0;31mAttributeError\u001b[0m: 'ScratchKMeans' object has no attribute 'record_myu'"
          ]
        }
      ]
    },
    {
      "cell_type": "code",
      "source": [
        "pred=clf.predict(x_valid)\n",
        "print (pred)"
      ],
      "metadata": {
        "id": "wXc8P0nGeKMw"
      },
      "execution_count": null,
      "outputs": []
    },
    {
      "cell_type": "code",
      "source": [
        "clf2=ScratchKMeans_speed(n_clusters=4,n_init=5,max_iter=1000,tol=1e-5,verbose=True)\n",
        "clf2.fit(x_train)"
      ],
      "metadata": {
        "id": "anha9oKReKPu"
      },
      "execution_count": null,
      "outputs": []
    },
    {
      "cell_type": "code",
      "source": [
        "pred=clf2.predict(x_valid)\n",
        "print (pred)"
      ],
      "metadata": {
        "id": "e7pasQJCeKba"
      },
      "execution_count": null,
      "outputs": []
    },
    {
      "cell_type": "code",
      "source": [
        "clf=ScratchKMeans(n_clusters=4,n_init=50, max_iter=500,tol=1e-5,verbose=False)"
      ],
      "metadata": {
        "id": "oC_7EZCieKoV"
      },
      "execution_count": null,
      "outputs": []
    },
    {
      "cell_type": "code",
      "source": [
        "clf2=ScratchKMeans_speed(n_clusters=4,n_init=5,max_iter=1000,tol=1e-5,verbose=False)"
      ],
      "metadata": {
        "id": "KHDxLg4BeK13"
      },
      "execution_count": null,
      "outputs": []
    },
    {
      "cell_type": "code",
      "source": [
        "elbow={}\n",
        "for k in range(1,8):\n",
        "    model=ScratchKMeans_speed(n_clusters=4,n_init=5,max_iter=1000,tol=1e-5,verbose=False)\n",
        "    model.fit(x)\n",
        "    elbow[k]=model.best_sse\n",
        "\n",
        "fig=plt.subplots(figsize=(12,8))\n",
        "plt.rcParams[\"font.size\"]=20\n",
        "plt.plot(list(elbow.keys()),list(elbow.values()),'rs--');    "
      ],
      "metadata": {
        "id": "LmvL9-wCj-k_"
      },
      "execution_count": null,
      "outputs": []
    },
    {
      "cell_type": "code",
      "source": [
        "print(myu)\n",
        "print (myu[1].argsort()[1])"
      ],
      "metadata": {
        "id": "DBYxJhV3lI79"
      },
      "execution_count": null,
      "outputs": []
    },
    {
      "cell_type": "code",
      "source": [
        "from matplotlib import cm\n",
        "plt.rcParams[\"font.size\"]=20s"
      ],
      "metadata": {
        "id": "KKpI1cQNletX"
      },
      "execution_count": null,
      "outputs": []
    }
  ]
}